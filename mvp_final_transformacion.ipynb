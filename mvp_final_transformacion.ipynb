{
 "cells": [
  {
   "cell_type": "markdown",
   "metadata": {},
   "source": [
    "# EN ESTE ARCHIVO SE ENCONTRARA UN MODELADO DEL DATASET mvp_movies.ipynb DESTINADO A DAR CUMPLIMIENTO CON EL RESTO DE LAS CONSIGNAS DE TRANSFORMACION."
   ]
  },
  {
   "cell_type": "code",
   "execution_count": 23,
   "metadata": {},
   "outputs": [],
   "source": [
    "import pandas as pd\n",
    "import numpy as np"
   ]
  },
  {
   "cell_type": "code",
   "execution_count": 24,
   "metadata": {},
   "outputs": [],
   "source": [
    "mvp_movies = pd.read_csv('movies_normalizado.csv')"
   ]
  },
  {
   "cell_type": "markdown",
   "metadata": {},
   "source": [
    "## Antes de crear las funciones, hay que terminar con la tranformacion y normalizacion del df.\n",
    "\n",
    "Comienzo viendo si existen nulos en las columnas presupuesto, recaudacion y fecha de realizacion:"
   ]
  },
  {
   "cell_type": "code",
   "execution_count": 26,
   "metadata": {},
   "outputs": [
    {
     "name": "stdout",
     "output_type": "stream",
     "text": [
      "0 0\n"
     ]
    }
   ],
   "source": [
    "nulos_presupuesto = mvp_movies[\"presupuesto\"].isnull().sum()\n",
    "nulos_recaudacion = mvp_movies[\"recaudacion\"].isnull().sum()\n",
    "print(nulos_recaudacion, nulos_presupuesto)\n",
    "## no hay nulos"
   ]
  },
  {
   "cell_type": "code",
   "execution_count": 27,
   "metadata": {},
   "outputs": [
    {
     "data": {
      "text/plain": [
       "7"
      ]
     },
     "execution_count": 27,
     "metadata": {},
     "output_type": "execute_result"
    }
   ],
   "source": [
    "nulos_fecha_ralizacion = mvp_movies[\"fecha_realizacion\"].isnull().sum()\n",
    "nulos_fecha_ralizacion"
   ]
  },
  {
   "cell_type": "code",
   "execution_count": 28,
   "metadata": {},
   "outputs": [],
   "source": [
    "# Los nulos en la columna fecha_realizacion deben eliminarse:\n",
    "\n",
    "mvp_movies = mvp_movies.dropna(subset=['fecha_realizacion'])"
   ]
  },
  {
   "cell_type": "code",
   "execution_count": 29,
   "metadata": {},
   "outputs": [
    {
     "data": {
      "text/plain": [
       "0"
      ]
     },
     "execution_count": 29,
     "metadata": {},
     "output_type": "execute_result"
    }
   ],
   "source": [
    "nulos_fecha_ralizacion = mvp_movies[\"fecha_realizacion\"].isnull().sum()\n",
    "nulos_fecha_ralizacion"
   ]
  },
  {
   "cell_type": "code",
   "execution_count": 30,
   "metadata": {},
   "outputs": [
    {
     "data": {
      "text/html": [
       "<div>\n",
       "<style scoped>\n",
       "    .dataframe tbody tr th:only-of-type {\n",
       "        vertical-align: middle;\n",
       "    }\n",
       "\n",
       "    .dataframe tbody tr th {\n",
       "        vertical-align: top;\n",
       "    }\n",
       "\n",
       "    .dataframe thead th {\n",
       "        text-align: right;\n",
       "    }\n",
       "</style>\n",
       "<table border=\"1\" class=\"dataframe\">\n",
       "  <thead>\n",
       "    <tr style=\"text-align: right;\">\n",
       "      <th></th>\n",
       "      <th>Unnamed: 0</th>\n",
       "      <th>pelicula_id</th>\n",
       "      <th>franquicia_id</th>\n",
       "      <th>franquicia</th>\n",
       "      <th>genero_id</th>\n",
       "      <th>nombre_genero</th>\n",
       "      <th>compañia</th>\n",
       "      <th>compañia_id</th>\n",
       "      <th>iso_3166_1</th>\n",
       "      <th>pais</th>\n",
       "      <th>iso_639_1</th>\n",
       "      <th>presupuesto</th>\n",
       "      <th>idioma_original</th>\n",
       "      <th>titulo_original</th>\n",
       "      <th>popularidad</th>\n",
       "      <th>fecha_realizacion</th>\n",
       "      <th>recaudacion</th>\n",
       "      <th>duracion</th>\n",
       "      <th>puntaje_reseña</th>\n",
       "      <th>año_realizacion</th>\n",
       "    </tr>\n",
       "  </thead>\n",
       "  <tbody>\n",
       "    <tr>\n",
       "      <th>0</th>\n",
       "      <td>0</td>\n",
       "      <td>862</td>\n",
       "      <td>10194.0</td>\n",
       "      <td>Toy Story Collection</td>\n",
       "      <td>16.0</td>\n",
       "      <td>Animation</td>\n",
       "      <td>Pixar Animation Studios</td>\n",
       "      <td>3.0</td>\n",
       "      <td>US</td>\n",
       "      <td>United States of America</td>\n",
       "      <td>en</td>\n",
       "      <td>30000000</td>\n",
       "      <td>en</td>\n",
       "      <td>Toy Story</td>\n",
       "      <td>21.946943</td>\n",
       "      <td>1995-10-30</td>\n",
       "      <td>373554033.0</td>\n",
       "      <td>81.0</td>\n",
       "      <td>7.7</td>\n",
       "      <td>1995</td>\n",
       "    </tr>\n",
       "    <tr>\n",
       "      <th>1</th>\n",
       "      <td>1</td>\n",
       "      <td>862</td>\n",
       "      <td>10194.0</td>\n",
       "      <td>Toy Story Collection</td>\n",
       "      <td>35.0</td>\n",
       "      <td>Comedy</td>\n",
       "      <td>Pixar Animation Studios</td>\n",
       "      <td>3.0</td>\n",
       "      <td>US</td>\n",
       "      <td>United States of America</td>\n",
       "      <td>en</td>\n",
       "      <td>30000000</td>\n",
       "      <td>en</td>\n",
       "      <td>Toy Story</td>\n",
       "      <td>21.946943</td>\n",
       "      <td>1995-10-30</td>\n",
       "      <td>373554033.0</td>\n",
       "      <td>81.0</td>\n",
       "      <td>7.7</td>\n",
       "      <td>1995</td>\n",
       "    </tr>\n",
       "    <tr>\n",
       "      <th>2</th>\n",
       "      <td>2</td>\n",
       "      <td>862</td>\n",
       "      <td>10194.0</td>\n",
       "      <td>Toy Story Collection</td>\n",
       "      <td>10751.0</td>\n",
       "      <td>Family</td>\n",
       "      <td>Pixar Animation Studios</td>\n",
       "      <td>3.0</td>\n",
       "      <td>US</td>\n",
       "      <td>United States of America</td>\n",
       "      <td>en</td>\n",
       "      <td>30000000</td>\n",
       "      <td>en</td>\n",
       "      <td>Toy Story</td>\n",
       "      <td>21.946943</td>\n",
       "      <td>1995-10-30</td>\n",
       "      <td>373554033.0</td>\n",
       "      <td>81.0</td>\n",
       "      <td>7.7</td>\n",
       "      <td>1995</td>\n",
       "    </tr>\n",
       "  </tbody>\n",
       "</table>\n",
       "</div>"
      ],
      "text/plain": [
       "   Unnamed: 0  pelicula_id  franquicia_id            franquicia  genero_id  \\\n",
       "0           0          862        10194.0  Toy Story Collection       16.0   \n",
       "1           1          862        10194.0  Toy Story Collection       35.0   \n",
       "2           2          862        10194.0  Toy Story Collection    10751.0   \n",
       "\n",
       "  nombre_genero                 compañia  compañia_id iso_3166_1  \\\n",
       "0     Animation  Pixar Animation Studios          3.0         US   \n",
       "1        Comedy  Pixar Animation Studios          3.0         US   \n",
       "2        Family  Pixar Animation Studios          3.0         US   \n",
       "\n",
       "                       pais iso_639_1  presupuesto idioma_original  \\\n",
       "0  United States of America        en     30000000              en   \n",
       "1  United States of America        en     30000000              en   \n",
       "2  United States of America        en     30000000              en   \n",
       "\n",
       "  titulo_original  popularidad fecha_realizacion  recaudacion  duracion  \\\n",
       "0       Toy Story    21.946943        1995-10-30  373554033.0      81.0   \n",
       "1       Toy Story    21.946943        1995-10-30  373554033.0      81.0   \n",
       "2       Toy Story    21.946943        1995-10-30  373554033.0      81.0   \n",
       "\n",
       "   puntaje_reseña  año_realizacion  \n",
       "0             7.7             1995  \n",
       "1             7.7             1995  \n",
       "2             7.7             1995  "
      ]
     },
     "execution_count": 30,
     "metadata": {},
     "output_type": "execute_result"
    }
   ],
   "source": [
    "# Creo la columna año_realizacion:\n",
    "mvp_movies['año_realizacion'] = pd.to_datetime(mvp_movies['fecha_realizacion']).dt.year\n",
    "mvp_movies.head(3)"
   ]
  },
  {
   "cell_type": "markdown",
   "metadata": {},
   "source": [
    "# Al observar el tipo de dato de las columnas presupuesto y recaudacion noto que presupuesto es 'int64'. Por lo que necesito cambiar a tipo float64 para poder calcular la ganancia.\n",
    "\n",
    "Una vez hecha la transformacion, procedo a calcular la columna ganancia."
   ]
  },
  {
   "cell_type": "code",
   "execution_count": 31,
   "metadata": {},
   "outputs": [],
   "source": [
    "mvp_movies['presupuesto'] = mvp_movies['presupuesto'].astype('float64')"
   ]
  },
  {
   "cell_type": "code",
   "execution_count": 32,
   "metadata": {},
   "outputs": [
    {
     "data": {
      "text/html": [
       "<div>\n",
       "<style scoped>\n",
       "    .dataframe tbody tr th:only-of-type {\n",
       "        vertical-align: middle;\n",
       "    }\n",
       "\n",
       "    .dataframe tbody tr th {\n",
       "        vertical-align: top;\n",
       "    }\n",
       "\n",
       "    .dataframe thead th {\n",
       "        text-align: right;\n",
       "    }\n",
       "</style>\n",
       "<table border=\"1\" class=\"dataframe\">\n",
       "  <thead>\n",
       "    <tr style=\"text-align: right;\">\n",
       "      <th></th>\n",
       "      <th>Unnamed: 0</th>\n",
       "      <th>pelicula_id</th>\n",
       "      <th>franquicia_id</th>\n",
       "      <th>franquicia</th>\n",
       "      <th>genero_id</th>\n",
       "      <th>nombre_genero</th>\n",
       "      <th>compañia</th>\n",
       "      <th>compañia_id</th>\n",
       "      <th>iso_3166_1</th>\n",
       "      <th>pais</th>\n",
       "      <th>...</th>\n",
       "      <th>presupuesto</th>\n",
       "      <th>idioma_original</th>\n",
       "      <th>titulo_original</th>\n",
       "      <th>popularidad</th>\n",
       "      <th>fecha_realizacion</th>\n",
       "      <th>recaudacion</th>\n",
       "      <th>duracion</th>\n",
       "      <th>puntaje_reseña</th>\n",
       "      <th>año_realizacion</th>\n",
       "      <th>ganancia</th>\n",
       "    </tr>\n",
       "  </thead>\n",
       "  <tbody>\n",
       "    <tr>\n",
       "      <th>0</th>\n",
       "      <td>0</td>\n",
       "      <td>862</td>\n",
       "      <td>10194.0</td>\n",
       "      <td>Toy Story Collection</td>\n",
       "      <td>16.0</td>\n",
       "      <td>Animation</td>\n",
       "      <td>Pixar Animation Studios</td>\n",
       "      <td>3.0</td>\n",
       "      <td>US</td>\n",
       "      <td>United States of America</td>\n",
       "      <td>...</td>\n",
       "      <td>30000000.0</td>\n",
       "      <td>en</td>\n",
       "      <td>Toy Story</td>\n",
       "      <td>21.946943</td>\n",
       "      <td>1995-10-30</td>\n",
       "      <td>373554033.0</td>\n",
       "      <td>81.0</td>\n",
       "      <td>7.7</td>\n",
       "      <td>1995</td>\n",
       "      <td>12.451801</td>\n",
       "    </tr>\n",
       "    <tr>\n",
       "      <th>1</th>\n",
       "      <td>1</td>\n",
       "      <td>862</td>\n",
       "      <td>10194.0</td>\n",
       "      <td>Toy Story Collection</td>\n",
       "      <td>35.0</td>\n",
       "      <td>Comedy</td>\n",
       "      <td>Pixar Animation Studios</td>\n",
       "      <td>3.0</td>\n",
       "      <td>US</td>\n",
       "      <td>United States of America</td>\n",
       "      <td>...</td>\n",
       "      <td>30000000.0</td>\n",
       "      <td>en</td>\n",
       "      <td>Toy Story</td>\n",
       "      <td>21.946943</td>\n",
       "      <td>1995-10-30</td>\n",
       "      <td>373554033.0</td>\n",
       "      <td>81.0</td>\n",
       "      <td>7.7</td>\n",
       "      <td>1995</td>\n",
       "      <td>12.451801</td>\n",
       "    </tr>\n",
       "    <tr>\n",
       "      <th>2</th>\n",
       "      <td>2</td>\n",
       "      <td>862</td>\n",
       "      <td>10194.0</td>\n",
       "      <td>Toy Story Collection</td>\n",
       "      <td>10751.0</td>\n",
       "      <td>Family</td>\n",
       "      <td>Pixar Animation Studios</td>\n",
       "      <td>3.0</td>\n",
       "      <td>US</td>\n",
       "      <td>United States of America</td>\n",
       "      <td>...</td>\n",
       "      <td>30000000.0</td>\n",
       "      <td>en</td>\n",
       "      <td>Toy Story</td>\n",
       "      <td>21.946943</td>\n",
       "      <td>1995-10-30</td>\n",
       "      <td>373554033.0</td>\n",
       "      <td>81.0</td>\n",
       "      <td>7.7</td>\n",
       "      <td>1995</td>\n",
       "      <td>12.451801</td>\n",
       "    </tr>\n",
       "  </tbody>\n",
       "</table>\n",
       "<p>3 rows × 21 columns</p>\n",
       "</div>"
      ],
      "text/plain": [
       "   Unnamed: 0  pelicula_id  franquicia_id            franquicia  genero_id  \\\n",
       "0           0          862        10194.0  Toy Story Collection       16.0   \n",
       "1           1          862        10194.0  Toy Story Collection       35.0   \n",
       "2           2          862        10194.0  Toy Story Collection    10751.0   \n",
       "\n",
       "  nombre_genero                 compañia  compañia_id iso_3166_1  \\\n",
       "0     Animation  Pixar Animation Studios          3.0         US   \n",
       "1        Comedy  Pixar Animation Studios          3.0         US   \n",
       "2        Family  Pixar Animation Studios          3.0         US   \n",
       "\n",
       "                       pais  ... presupuesto  idioma_original titulo_original  \\\n",
       "0  United States of America  ...  30000000.0               en       Toy Story   \n",
       "1  United States of America  ...  30000000.0               en       Toy Story   \n",
       "2  United States of America  ...  30000000.0               en       Toy Story   \n",
       "\n",
       "  popularidad  fecha_realizacion  recaudacion  duracion  puntaje_reseña  \\\n",
       "0   21.946943         1995-10-30  373554033.0      81.0             7.7   \n",
       "1   21.946943         1995-10-30  373554033.0      81.0             7.7   \n",
       "2   21.946943         1995-10-30  373554033.0      81.0             7.7   \n",
       "\n",
       "   año_realizacion   ganancia  \n",
       "0             1995  12.451801  \n",
       "1             1995  12.451801  \n",
       "2             1995  12.451801  \n",
       "\n",
       "[3 rows x 21 columns]"
      ]
     },
     "execution_count": 32,
     "metadata": {},
     "output_type": "execute_result"
    }
   ],
   "source": [
    "mvp_movies['ganancia'] = mvp_movies['recaudacion'] / mvp_movies['presupuesto']\n",
    "mvp_movies.head(3)"
   ]
  },
  {
   "cell_type": "code",
   "execution_count": 33,
   "metadata": {},
   "outputs": [],
   "source": [
    "mvp_movies.to_csv('movies_ampliada.csv')"
   ]
  },
  {
   "cell_type": "markdown",
   "metadata": {},
   "source": [
    "### Finalizadas las transformaciones, procedo a definir las funciones en el archivo mvp.funciones.ipynb"
   ]
  }
 ],
 "metadata": {
  "kernelspec": {
   "display_name": "Python 3",
   "language": "python",
   "name": "python3"
  },
  "language_info": {
   "codemirror_mode": {
    "name": "ipython",
    "version": 3
   },
   "file_extension": ".py",
   "mimetype": "text/x-python",
   "name": "python",
   "nbconvert_exporter": "python",
   "pygments_lexer": "ipython3",
   "version": "3.11.2"
  },
  "orig_nbformat": 4
 },
 "nbformat": 4,
 "nbformat_minor": 2
}
