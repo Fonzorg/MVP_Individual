{
 "cells": [
  {
   "cell_type": "markdown",
   "metadata": {},
   "source": [
    "# DADA LA LIMITACION DE RECURSOS EN MI EQUIPO, INSUFICIENTES PARA SOPORTAR LOS DATABASE HASTA AQUI MANEJADOS, ME VEO EN LA NECESIDAD DE GENERAR UN DATASET MAS PEQUEÑO PARA CADA UNA\n",
    "# DE LAS SIGUIENTES FUNCIONES.\n",
    "# Por lo tanto, en lo que sigue, primero se generara aquellos datasets y luego se definira cada funcion sobre dicho dataset específico.\n"
   ]
  },
  {
   "cell_type": "code",
   "execution_count": 183,
   "metadata": {},
   "outputs": [],
   "source": [
    "import pandas as pd"
   ]
  },
  {
   "cell_type": "markdown",
   "metadata": {},
   "source": [
    "# Genero un dataset a partir del archivo mvp_movies_ampliada.csv y otro a partir de credit_normalizado.csv. "
   ]
  },
  {
   "cell_type": "code",
   "execution_count": 184,
   "metadata": {},
   "outputs": [],
   "source": [
    "mvp_funciones_movies = pd.read_csv('movies_ampliada.csv')"
   ]
  },
  {
   "cell_type": "code",
   "execution_count": 185,
   "metadata": {},
   "outputs": [
    {
     "name": "stdout",
     "output_type": "stream",
     "text": [
      "<class 'pandas.core.frame.DataFrame'>\n",
      "RangeIndex: 54360 entries, 0 to 54359\n",
      "Data columns (total 22 columns):\n",
      " #   Column             Non-Null Count  Dtype  \n",
      "---  ------             --------------  -----  \n",
      " 0   Unnamed: 0.1       54360 non-null  int64  \n",
      " 1   Unnamed: 0         54360 non-null  int64  \n",
      " 2   pelicula_id        54360 non-null  int64  \n",
      " 3   franquicia_id      54360 non-null  float64\n",
      " 4   franquicia         54360 non-null  object \n",
      " 5   genero_id          54218 non-null  float64\n",
      " 6   nombre_genero      54218 non-null  object \n",
      " 7   compañia           52673 non-null  object \n",
      " 8   compañia_id        52673 non-null  float64\n",
      " 9   iso_3166_1         53749 non-null  object \n",
      " 10  pais               53749 non-null  object \n",
      " 11  iso_639_1          54191 non-null  object \n",
      " 12  presupuesto        54360 non-null  float64\n",
      " 13  idioma_original    54360 non-null  object \n",
      " 14  titulo_original    54360 non-null  object \n",
      " 15  popularidad        54360 non-null  float64\n",
      " 16  fecha_realizacion  54360 non-null  object \n",
      " 17  recaudacion        54360 non-null  float64\n",
      " 18  duracion           54347 non-null  float64\n",
      " 19  puntaje_reseña     54360 non-null  float64\n",
      " 20  año_realizacion    54360 non-null  int64  \n",
      " 21  ganancia           35401 non-null  float64\n",
      "dtypes: float64(9), int64(4), object(9)\n",
      "memory usage: 9.1+ MB\n"
     ]
    }
   ],
   "source": [
    "mvp_funciones_movies.info()"
   ]
  },
  {
   "cell_type": "markdown",
   "metadata": {},
   "source": [
    "# 1°: \n",
    "# def peliculas_idioma( Idioma: str ): Se ingresa un idioma (como están escritos en el dataset, no hay que traducirlos!). Debe devolver la cantidad de películas producidas en ese idioma.\n",
    "Ejemplo de retorno: X cantidad de películas fueron estrenadas en idioma\n",
    "\n",
    "Primero creo un dataset con los dastos necesarios para correr esta funcion:"
   ]
  },
  {
   "cell_type": "code",
   "execution_count": 186,
   "metadata": {},
   "outputs": [],
   "source": [
    "mvp_funcion_idioma = mvp_funciones_movies[['idioma_original']]"
   ]
  },
  {
   "cell_type": "code",
   "execution_count": 187,
   "metadata": {},
   "outputs": [
    {
     "name": "stdout",
     "output_type": "stream",
     "text": [
      "<class 'pandas.core.frame.DataFrame'>\n",
      "RangeIndex: 54360 entries, 0 to 54359\n",
      "Data columns (total 1 columns):\n",
      " #   Column           Non-Null Count  Dtype \n",
      "---  ------           --------------  ----- \n",
      " 0   idioma_original  54360 non-null  object\n",
      "dtypes: object(1)\n",
      "memory usage: 424.8+ KB\n"
     ]
    }
   ],
   "source": [
    "mvp_funcion_idioma.info()"
   ]
  },
  {
   "cell_type": "code",
   "execution_count": 188,
   "metadata": {},
   "outputs": [],
   "source": [
    "mvp_funcion_idioma.to_csv('idioma_original.csv')"
   ]
  },
  {
   "cell_type": "code",
   "execution_count": 189,
   "metadata": {},
   "outputs": [],
   "source": [
    "def pelicula_idioma(idioma):\n",
    "    idioma = idioma\n",
    "    cantidad = mvp_funcion_idioma['idioma_original'].value_counts()[idioma]\n",
    "    return print(cantidad, ' peliculas fueron estrenadas en idioma', idioma)"
   ]
  },
  {
   "cell_type": "code",
   "execution_count": 190,
   "metadata": {},
   "outputs": [
    {
     "name": "stdout",
     "output_type": "stream",
     "text": [
      "38454  peliculas fueron estrenadas en idioma en\n"
     ]
    }
   ],
   "source": [
    "pelicula_idioma('en')"
   ]
  },
  {
   "cell_type": "markdown",
   "metadata": {},
   "source": [
    "# 2°:\n",
    "# def peliculas_duracion( Pelicula: str ): Se ingresa una pelicula. Debe devolver la duracion y el año.\n",
    "Ejemplo de retorno: X . Duración: x. Año: xx"
   ]
  },
  {
   "cell_type": "code",
   "execution_count": 191,
   "metadata": {},
   "outputs": [],
   "source": [
    "mvp_funcion_duracion = mvp_funciones_movies[['titulo_original', 'duracion', 'año_realizacion']]"
   ]
  },
  {
   "cell_type": "code",
   "execution_count": 192,
   "metadata": {},
   "outputs": [
    {
     "name": "stdout",
     "output_type": "stream",
     "text": [
      "<class 'pandas.core.frame.DataFrame'>\n",
      "RangeIndex: 54360 entries, 0 to 54359\n",
      "Data columns (total 3 columns):\n",
      " #   Column           Non-Null Count  Dtype  \n",
      "---  ------           --------------  -----  \n",
      " 0   titulo_original  54360 non-null  object \n",
      " 1   duracion         54347 non-null  float64\n",
      " 2   año_realizacion  54360 non-null  int64  \n",
      "dtypes: float64(1), int64(1), object(1)\n",
      "memory usage: 1.2+ MB\n"
     ]
    }
   ],
   "source": [
    "mvp_funcion_duracion.info()"
   ]
  },
  {
   "cell_type": "code",
   "execution_count": 193,
   "metadata": {},
   "outputs": [
    {
     "data": {
      "text/plain": [
       "49875"
      ]
     },
     "execution_count": 193,
     "metadata": {},
     "output_type": "execute_result"
    }
   ],
   "source": [
    "mvp_funcion_duracion.duplicated().sum()"
   ]
  },
  {
   "cell_type": "markdown",
   "metadata": {},
   "source": [
    "# Habiendo tantos registros repetidos, debo elimiar y deja un registro por titulo original."
   ]
  },
  {
   "cell_type": "code",
   "execution_count": 194,
   "metadata": {},
   "outputs": [
    {
     "name": "stdout",
     "output_type": "stream",
     "text": [
      "<class 'pandas.core.frame.DataFrame'>\n",
      "Int64Index: 4485 entries, 0 to 54358\n",
      "Data columns (total 3 columns):\n",
      " #   Column           Non-Null Count  Dtype  \n",
      "---  ------           --------------  -----  \n",
      " 0   titulo_original  4485 non-null   object \n",
      " 1   duracion         4478 non-null   float64\n",
      " 2   año_realizacion  4485 non-null   int64  \n",
      "dtypes: float64(1), int64(1), object(1)\n",
      "memory usage: 140.2+ KB\n"
     ]
    },
    {
     "name": "stderr",
     "output_type": "stream",
     "text": [
      "C:\\Users\\alfon\\AppData\\Local\\Temp\\ipykernel_10304\\1728495335.py:1: SettingWithCopyWarning: \n",
      "A value is trying to be set on a copy of a slice from a DataFrame\n",
      "\n",
      "See the caveats in the documentation: https://pandas.pydata.org/pandas-docs/stable/user_guide/indexing.html#returning-a-view-versus-a-copy\n",
      "  mvp_funcion_duracion.drop_duplicates(subset=['titulo_original', 'duracion', 'año_realizacion'], keep='first', inplace=True)\n"
     ]
    }
   ],
   "source": [
    "mvp_funcion_duracion.drop_duplicates(subset=['titulo_original', 'duracion', 'año_realizacion'], keep='first', inplace=True)\n",
    "mvp_funcion_duracion.duplicated().sum()\n",
    "mvp_funcion_duracion.info()"
   ]
  },
  {
   "cell_type": "code",
   "execution_count": 195,
   "metadata": {},
   "outputs": [],
   "source": [
    "mvp_funcion_duracion.to_csv('duracion.csv')"
   ]
  },
  {
   "cell_type": "code",
   "execution_count": 196,
   "metadata": {},
   "outputs": [],
   "source": [
    "def duracion_pelicula(pelicula):\n",
    "\n",
    "    duracion = mvp_funcion_duracion.loc[mvp_funcion_duracion['titulo_original'] == pelicula]['duracion'].values[0]\n",
    "    año = mvp_funcion_duracion.loc[mvp_funcion_duracion['titulo_original'] == pelicula]['año_realizacion'].values[0]\n",
    "    return print(pelicula, '. Duracion:', duracion, '. Año', año)\n"
   ]
  },
  {
   "cell_type": "code",
   "execution_count": 197,
   "metadata": {},
   "outputs": [
    {
     "name": "stdout",
     "output_type": "stream",
     "text": [
      "Toy Story . Duracion: 81.0 . Año 1995\n"
     ]
    }
   ],
   "source": [
    "duracion_pelicula('Toy Story')"
   ]
  },
  {
   "cell_type": "markdown",
   "metadata": {},
   "source": [
    "# 3°\n",
    "# def franquicia( Franquicia: str ): Se ingresa la franquicia, retornando la cantidad de peliculas, ganancia total y promedio\n",
    "Ejemplo de retorno: La franquicia X posee X peliculas, una ganancia total de x y una ganancia promedio de xx"
   ]
  },
  {
   "cell_type": "code",
   "execution_count": 199,
   "metadata": {},
   "outputs": [
    {
     "name": "stdout",
     "output_type": "stream",
     "text": [
      "<class 'pandas.core.frame.DataFrame'>\n",
      "RangeIndex: 54360 entries, 0 to 54359\n",
      "Data columns (total 3 columns):\n",
      " #   Column           Non-Null Count  Dtype  \n",
      "---  ------           --------------  -----  \n",
      " 0   franquicia       54360 non-null  object \n",
      " 1   titulo_original  54360 non-null  object \n",
      " 2   recaudacion      54360 non-null  float64\n",
      "dtypes: float64(1), object(2)\n",
      "memory usage: 1.2+ MB\n"
     ]
    }
   ],
   "source": [
    "mvp_funcion_franquicia = mvp_funciones_movies[['franquicia', 'titulo_original', 'recaudacion']]\n",
    "mvp_funcion_franquicia.info()"
   ]
  },
  {
   "cell_type": "code",
   "execution_count": 200,
   "metadata": {},
   "outputs": [
    {
     "data": {
      "text/plain": [
       "49879"
      ]
     },
     "execution_count": 200,
     "metadata": {},
     "output_type": "execute_result"
    }
   ],
   "source": [
    "mvp_funcion_franquicia.duplicated().sum()"
   ]
  },
  {
   "cell_type": "code",
   "execution_count": 201,
   "metadata": {},
   "outputs": [
    {
     "name": "stdout",
     "output_type": "stream",
     "text": [
      "<class 'pandas.core.frame.DataFrame'>\n",
      "Int64Index: 4481 entries, 0 to 54358\n",
      "Data columns (total 3 columns):\n",
      " #   Column           Non-Null Count  Dtype  \n",
      "---  ------           --------------  -----  \n",
      " 0   franquicia       4481 non-null   object \n",
      " 1   titulo_original  4481 non-null   object \n",
      " 2   recaudacion      4481 non-null   float64\n",
      "dtypes: float64(1), object(2)\n",
      "memory usage: 140.0+ KB\n"
     ]
    },
    {
     "name": "stderr",
     "output_type": "stream",
     "text": [
      "C:\\Users\\alfon\\AppData\\Local\\Temp\\ipykernel_10304\\2519940161.py:1: SettingWithCopyWarning: \n",
      "A value is trying to be set on a copy of a slice from a DataFrame\n",
      "\n",
      "See the caveats in the documentation: https://pandas.pydata.org/pandas-docs/stable/user_guide/indexing.html#returning-a-view-versus-a-copy\n",
      "  mvp_funcion_franquicia.drop_duplicates(subset=['franquicia', 'titulo_original', 'recaudacion'], keep='first', inplace=True)\n"
     ]
    }
   ],
   "source": [
    "mvp_funcion_franquicia.drop_duplicates(subset=['franquicia', 'titulo_original', 'recaudacion'], keep='first', inplace=True)\n",
    "mvp_funcion_franquicia.duplicated().sum()\n",
    "mvp_funcion_franquicia.info()"
   ]
  },
  {
   "cell_type": "code",
   "execution_count": 202,
   "metadata": {},
   "outputs": [
    {
     "data": {
      "text/html": [
       "<div>\n",
       "<style scoped>\n",
       "    .dataframe tbody tr th:only-of-type {\n",
       "        vertical-align: middle;\n",
       "    }\n",
       "\n",
       "    .dataframe tbody tr th {\n",
       "        vertical-align: top;\n",
       "    }\n",
       "\n",
       "    .dataframe thead th {\n",
       "        text-align: right;\n",
       "    }\n",
       "</style>\n",
       "<table border=\"1\" class=\"dataframe\">\n",
       "  <thead>\n",
       "    <tr style=\"text-align: right;\">\n",
       "      <th></th>\n",
       "      <th>franquicia</th>\n",
       "      <th>titulo_original</th>\n",
       "      <th>recaudacion</th>\n",
       "    </tr>\n",
       "  </thead>\n",
       "  <tbody>\n",
       "    <tr>\n",
       "      <th>0</th>\n",
       "      <td>Toy Story Collection</td>\n",
       "      <td>Toy Story</td>\n",
       "      <td>373554033.0</td>\n",
       "    </tr>\n",
       "    <tr>\n",
       "      <th>3</th>\n",
       "      <td>Grumpy Old Men Collection</td>\n",
       "      <td>Grumpier Old Men</td>\n",
       "      <td>0.0</td>\n",
       "    </tr>\n",
       "    <tr>\n",
       "      <th>7</th>\n",
       "      <td>Father of the Bride Collection</td>\n",
       "      <td>Father of the Bride Part II</td>\n",
       "      <td>76578911.0</td>\n",
       "    </tr>\n",
       "    <tr>\n",
       "      <th>9</th>\n",
       "      <td>James Bond Collection</td>\n",
       "      <td>GoldenEye</td>\n",
       "      <td>352194034.0</td>\n",
       "    </tr>\n",
       "    <tr>\n",
       "      <th>45</th>\n",
       "      <td>Balto Collection</td>\n",
       "      <td>Balto</td>\n",
       "      <td>11348324.0</td>\n",
       "    </tr>\n",
       "  </tbody>\n",
       "</table>\n",
       "</div>"
      ],
      "text/plain": [
       "                        franquicia              titulo_original  recaudacion\n",
       "0             Toy Story Collection                    Toy Story  373554033.0\n",
       "3        Grumpy Old Men Collection             Grumpier Old Men          0.0\n",
       "7   Father of the Bride Collection  Father of the Bride Part II   76578911.0\n",
       "9            James Bond Collection                    GoldenEye  352194034.0\n",
       "45                Balto Collection                        Balto   11348324.0"
      ]
     },
     "execution_count": 202,
     "metadata": {},
     "output_type": "execute_result"
    }
   ],
   "source": [
    "mvp_funcion_franquicia.head()"
   ]
  },
  {
   "cell_type": "code",
   "execution_count": 203,
   "metadata": {},
   "outputs": [],
   "source": [
    "mvp_funcion_franquicia.to_csv('franquicias.csv')"
   ]
  },
  {
   "cell_type": "code",
   "execution_count": 204,
   "metadata": {},
   "outputs": [],
   "source": [
    "def franquicia(franquicia):\n",
    "    cantidad_titulos = mvp_funcion_franquicia.loc[mvp_funcion_franquicia['franquicia'] == franquicia]['titulo_original'].count()\n",
    "    recaudacion_total = mvp_funcion_franquicia.loc[mvp_funcion_franquicia['franquicia'] == franquicia]['recaudacion'].sum()\n",
    "    recaudacion = ('US${:,}'.format(round(recaudacion_total)))\n",
    "    recaudacion_promedio = recaudacion_total / cantidad_titulos\n",
    "    recaudacion_prom = ('US${:,}'.format(round(recaudacion_promedio)))\n",
    "    return print('La franquicia', franquicia, 'posee', cantidad_titulos, 'peliculas', 'una ganancia total de', recaudacion, 'y una ganancia promedio de', recaudacion_prom)"
   ]
  },
  {
   "cell_type": "code",
   "execution_count": 205,
   "metadata": {},
   "outputs": [
    {
     "name": "stdout",
     "output_type": "stream",
     "text": [
      "La franquicia Toy Story Collection posee 3 peliculas una ganancia total de US$1,937,890,605 y una ganancia promedio de US$645,963,535\n"
     ]
    }
   ],
   "source": [
    "franquicia('Toy Story Collection')"
   ]
  },
  {
   "cell_type": "markdown",
   "metadata": {},
   "source": [
    "# 4°\n",
    "# def peliculas_pais( Pais: str ): Se ingresa un país (como están escritos en el dataset, no hay que traducirlos!), retornando la cantidad de peliculas producidas en el mismo.\n",
    "Ejemplo de retorno: Se produjeron X películas en el país X"
   ]
  },
  {
   "cell_type": "code",
   "execution_count": 206,
   "metadata": {},
   "outputs": [
    {
     "name": "stdout",
     "output_type": "stream",
     "text": [
      "<class 'pandas.core.frame.DataFrame'>\n",
      "RangeIndex: 54360 entries, 0 to 54359\n",
      "Data columns (total 2 columns):\n",
      " #   Column           Non-Null Count  Dtype \n",
      "---  ------           --------------  ----- \n",
      " 0   titulo_original  54360 non-null  object\n",
      " 1   pais             53749 non-null  object\n",
      "dtypes: object(2)\n",
      "memory usage: 849.5+ KB\n"
     ]
    }
   ],
   "source": [
    "mvp_funcion_pais = mvp_funciones_movies[['titulo_original', 'pais']]\n",
    "mvp_funcion_pais.info()"
   ]
  },
  {
   "cell_type": "code",
   "execution_count": 207,
   "metadata": {},
   "outputs": [
    {
     "data": {
      "text/plain": [
       "48854"
      ]
     },
     "execution_count": 207,
     "metadata": {},
     "output_type": "execute_result"
    }
   ],
   "source": [
    "mvp_funcion_pais.duplicated().sum()"
   ]
  },
  {
   "cell_type": "code",
   "execution_count": 208,
   "metadata": {},
   "outputs": [
    {
     "name": "stdout",
     "output_type": "stream",
     "text": [
      "<class 'pandas.core.frame.DataFrame'>\n",
      "Int64Index: 5506 entries, 0 to 54358\n",
      "Data columns (total 2 columns):\n",
      " #   Column           Non-Null Count  Dtype \n",
      "---  ------           --------------  ----- \n",
      " 0   titulo_original  5506 non-null   object\n",
      " 1   pais             5262 non-null   object\n",
      "dtypes: object(2)\n",
      "memory usage: 129.0+ KB\n"
     ]
    },
    {
     "name": "stderr",
     "output_type": "stream",
     "text": [
      "C:\\Users\\alfon\\AppData\\Local\\Temp\\ipykernel_10304\\4093546167.py:1: SettingWithCopyWarning: \n",
      "A value is trying to be set on a copy of a slice from a DataFrame\n",
      "\n",
      "See the caveats in the documentation: https://pandas.pydata.org/pandas-docs/stable/user_guide/indexing.html#returning-a-view-versus-a-copy\n",
      "  mvp_funcion_pais.drop_duplicates(subset = ['titulo_original', 'pais'], keep = 'first', inplace=True)\n"
     ]
    }
   ],
   "source": [
    "mvp_funcion_pais.drop_duplicates(subset = ['titulo_original', 'pais'], keep = 'first', inplace=True)\n",
    "mvp_funcion_pais.info()"
   ]
  },
  {
   "cell_type": "code",
   "execution_count": 209,
   "metadata": {},
   "outputs": [
    {
     "data": {
      "text/html": [
       "<div>\n",
       "<style scoped>\n",
       "    .dataframe tbody tr th:only-of-type {\n",
       "        vertical-align: middle;\n",
       "    }\n",
       "\n",
       "    .dataframe tbody tr th {\n",
       "        vertical-align: top;\n",
       "    }\n",
       "\n",
       "    .dataframe thead th {\n",
       "        text-align: right;\n",
       "    }\n",
       "</style>\n",
       "<table border=\"1\" class=\"dataframe\">\n",
       "  <thead>\n",
       "    <tr style=\"text-align: right;\">\n",
       "      <th></th>\n",
       "      <th>titulo_original</th>\n",
       "      <th>pais</th>\n",
       "    </tr>\n",
       "  </thead>\n",
       "  <tbody>\n",
       "    <tr>\n",
       "      <th>0</th>\n",
       "      <td>Toy Story</td>\n",
       "      <td>United States of America</td>\n",
       "    </tr>\n",
       "    <tr>\n",
       "      <th>3</th>\n",
       "      <td>Grumpier Old Men</td>\n",
       "      <td>United States of America</td>\n",
       "    </tr>\n",
       "    <tr>\n",
       "      <th>7</th>\n",
       "      <td>Father of the Bride Part II</td>\n",
       "      <td>United States of America</td>\n",
       "    </tr>\n",
       "    <tr>\n",
       "      <th>9</th>\n",
       "      <td>GoldenEye</td>\n",
       "      <td>United Kingdom</td>\n",
       "    </tr>\n",
       "    <tr>\n",
       "      <th>12</th>\n",
       "      <td>GoldenEye</td>\n",
       "      <td>United States of America</td>\n",
       "    </tr>\n",
       "  </tbody>\n",
       "</table>\n",
       "</div>"
      ],
      "text/plain": [
       "                titulo_original                      pais\n",
       "0                     Toy Story  United States of America\n",
       "3              Grumpier Old Men  United States of America\n",
       "7   Father of the Bride Part II  United States of America\n",
       "9                     GoldenEye            United Kingdom\n",
       "12                    GoldenEye  United States of America"
      ]
     },
     "execution_count": 209,
     "metadata": {},
     "output_type": "execute_result"
    }
   ],
   "source": [
    "mvp_funcion_pais.head()"
   ]
  },
  {
   "cell_type": "code",
   "execution_count": 210,
   "metadata": {},
   "outputs": [],
   "source": [
    "mvp_funcion_pais.to_csv('paises.csv')"
   ]
  },
  {
   "cell_type": "code",
   "execution_count": 211,
   "metadata": {},
   "outputs": [],
   "source": [
    "def pelicula_pais(pais):\n",
    "    pais = pais\n",
    "    cantidad = mvp_funcion_pais['pais'].value_counts()[pais]\n",
    "    return print('Se producjeron ', cantidad, ' peliculas en', pais)"
   ]
  },
  {
   "cell_type": "code",
   "execution_count": 212,
   "metadata": {},
   "outputs": [
    {
     "name": "stdout",
     "output_type": "stream",
     "text": [
      "Se producjeron  2546  peliculas en United States of America\n"
     ]
    }
   ],
   "source": [
    "pelicula_pais('United States of America')"
   ]
  },
  {
   "cell_type": "markdown",
   "metadata": {},
   "source": [
    "# 5°\n",
    "# def productoras_exitosas( Productora: str ): Se ingresa la productora, entregandote el revunue total y la cantidad de peliculas que realizo.\n",
    "Ejemplo de retorno: La productora X ha tenido un revenue de x"
   ]
  },
  {
   "cell_type": "code",
   "execution_count": 213,
   "metadata": {},
   "outputs": [
    {
     "data": {
      "text/plain": [
       "45206"
      ]
     },
     "execution_count": 213,
     "metadata": {},
     "output_type": "execute_result"
    }
   ],
   "source": [
    "mvp_funcion_productora = mvp_funciones_movies[['titulo_original', 'compañia', 'recaudacion']]\n",
    "mvp_funcion_productora.duplicated().sum()"
   ]
  },
  {
   "cell_type": "code",
   "execution_count": 214,
   "metadata": {},
   "outputs": [
    {
     "name": "stderr",
     "output_type": "stream",
     "text": [
      "C:\\Users\\alfon\\AppData\\Local\\Temp\\ipykernel_10304\\832767332.py:1: SettingWithCopyWarning: \n",
      "A value is trying to be set on a copy of a slice from a DataFrame\n",
      "\n",
      "See the caveats in the documentation: https://pandas.pydata.org/pandas-docs/stable/user_guide/indexing.html#returning-a-view-versus-a-copy\n",
      "  mvp_funcion_productora.drop_duplicates(subset=['titulo_original', 'compañia', 'recaudacion'], keep = 'first', inplace=True)\n"
     ]
    }
   ],
   "source": [
    "mvp_funcion_productora.drop_duplicates(subset=['titulo_original', 'compañia', 'recaudacion'], keep = 'first', inplace=True)"
   ]
  },
  {
   "cell_type": "code",
   "execution_count": 215,
   "metadata": {},
   "outputs": [
    {
     "data": {
      "text/html": [
       "<div>\n",
       "<style scoped>\n",
       "    .dataframe tbody tr th:only-of-type {\n",
       "        vertical-align: middle;\n",
       "    }\n",
       "\n",
       "    .dataframe tbody tr th {\n",
       "        vertical-align: top;\n",
       "    }\n",
       "\n",
       "    .dataframe thead th {\n",
       "        text-align: right;\n",
       "    }\n",
       "</style>\n",
       "<table border=\"1\" class=\"dataframe\">\n",
       "  <thead>\n",
       "    <tr style=\"text-align: right;\">\n",
       "      <th></th>\n",
       "      <th>titulo_original</th>\n",
       "      <th>compañia</th>\n",
       "      <th>recaudacion</th>\n",
       "    </tr>\n",
       "  </thead>\n",
       "  <tbody>\n",
       "    <tr>\n",
       "      <th>0</th>\n",
       "      <td>Toy Story</td>\n",
       "      <td>Pixar Animation Studios</td>\n",
       "      <td>373554033.0</td>\n",
       "    </tr>\n",
       "    <tr>\n",
       "      <th>3</th>\n",
       "      <td>Grumpier Old Men</td>\n",
       "      <td>Warner Bros.</td>\n",
       "      <td>0.0</td>\n",
       "    </tr>\n",
       "    <tr>\n",
       "      <th>4</th>\n",
       "      <td>Grumpier Old Men</td>\n",
       "      <td>Lancaster Gate</td>\n",
       "      <td>0.0</td>\n",
       "    </tr>\n",
       "    <tr>\n",
       "      <th>7</th>\n",
       "      <td>Father of the Bride Part II</td>\n",
       "      <td>Sandollar Productions</td>\n",
       "      <td>76578911.0</td>\n",
       "    </tr>\n",
       "    <tr>\n",
       "      <th>8</th>\n",
       "      <td>Father of the Bride Part II</td>\n",
       "      <td>Touchstone Pictures</td>\n",
       "      <td>76578911.0</td>\n",
       "    </tr>\n",
       "  </tbody>\n",
       "</table>\n",
       "</div>"
      ],
      "text/plain": [
       "               titulo_original                 compañia  recaudacion\n",
       "0                    Toy Story  Pixar Animation Studios  373554033.0\n",
       "3             Grumpier Old Men             Warner Bros.          0.0\n",
       "4             Grumpier Old Men           Lancaster Gate          0.0\n",
       "7  Father of the Bride Part II    Sandollar Productions   76578911.0\n",
       "8  Father of the Bride Part II      Touchstone Pictures   76578911.0"
      ]
     },
     "execution_count": 215,
     "metadata": {},
     "output_type": "execute_result"
    }
   ],
   "source": [
    "mvp_funcion_productora.head()"
   ]
  },
  {
   "cell_type": "code",
   "execution_count": 216,
   "metadata": {},
   "outputs": [],
   "source": [
    "mvp_funcion_productora.to_csv('productoras.csv')"
   ]
  },
  {
   "cell_type": "code",
   "execution_count": 217,
   "metadata": {},
   "outputs": [],
   "source": [
    "def productoras_exitosas (compañia):\n",
    "    comapañia = compañia\n",
    "    recaudacion_total = mvp_funcion_productora.loc[mvp_funcion_productora['compañia'] == compañia]['recaudacion'].sum()\n",
    "    recaudacion = ('US${:,}'.format(round(recaudacion_total)))\n",
    "\n",
    "    #peliculas_totales = mvp_funcion_productora.loc[mvp.funcion_productora['compañia'] == compañia]['titulo_original'].nunique()\n",
    "\n",
    "    return print('La compañia', compañia, 'ha tenido un revenue de', recaudacion)#, 'y producido un total de', peliculas_totales)"
   ]
  },
  {
   "cell_type": "code",
   "execution_count": 218,
   "metadata": {},
   "outputs": [
    {
     "name": "stdout",
     "output_type": "stream",
     "text": [
      "La compañia Pixar Animation Studios ha tenido un revenue de US$7,216,620,587\n"
     ]
    }
   ],
   "source": [
    "productoras_exitosas('Pixar Animation Studios')"
   ]
  },
  {
   "cell_type": "markdown",
   "metadata": {},
   "source": [
    "# 6°\n",
    "# def get_director( nombre_director ): Se ingresa el nombre de un director que se encuentre dentro de un dataset debiendo devolver el éxito del mismo medido a través del retorno. Además, deberá devolver el nombre de cada película con la fecha de lanzamiento, retorno individual, costo y ganancia de la misma, en formato lista."
   ]
  },
  {
   "cell_type": "code",
   "execution_count": null,
   "metadata": {},
   "outputs": [],
   "source": [
    "def get_director(director):\n",
    "    director_subset = mvp_movies_aplicada.loc[mvp_movies_aplicada['crew_nombre'].isin([director])]\n",
    "    #retorno = mvp_movies_aplicada.loc['recaudacion'].sum()\n",
    "\n",
    "\n",
    "    return print('El director', director, 'ha generado una retorno total de')#, retorno)"
   ]
  },
  {
   "cell_type": "code",
   "execution_count": null,
   "metadata": {},
   "outputs": [
    {
     "name": "stdout",
     "output_type": "stream",
     "text": [
      "El director John Lasseter ha generado una retorno total de\n"
     ]
    }
   ],
   "source": [
    "get_director('John Lasseter')"
   ]
  }
 ],
 "metadata": {
  "kernelspec": {
   "display_name": "Python 3",
   "language": "python",
   "name": "python3"
  },
  "language_info": {
   "codemirror_mode": {
    "name": "ipython",
    "version": 3
   },
   "file_extension": ".py",
   "mimetype": "text/x-python",
   "name": "python",
   "nbconvert_exporter": "python",
   "pygments_lexer": "ipython3",
   "version": "3.11.2"
  },
  "orig_nbformat": 4
 },
 "nbformat": 4,
 "nbformat_minor": 2
}
