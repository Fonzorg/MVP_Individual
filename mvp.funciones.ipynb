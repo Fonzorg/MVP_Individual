{
 "cells": [
  {
   "cell_type": "markdown",
   "metadata": {},
   "source": [
    "# DADA LA LIMITACION DE RECURSOS EN MI EQUIPO, INSUFICIENTES PARA SOPORTAR LOS DATABASE HASTA AQUI MANEJADOS, ME VEO EN LA NECESIDAD DE GENERAR UN DATASET MAS PEQUEÑO PARA CADA UNA\n",
    "# DE LAS SIGUIENTES FUNCIONES.\n",
    "# Por lo tanto, en lo que sigue, primero se generara aquellos datasets y luego se definira cada funcion sobre dicho dataset específico.\n"
   ]
  },
  {
   "cell_type": "code",
   "execution_count": 4,
   "metadata": {},
   "outputs": [],
   "source": [
    "import pandas as pd"
   ]
  },
  {
   "cell_type": "markdown",
   "metadata": {},
   "source": [
    "# Genero un dataset a partir del archivo mvp_movies_ampliada.csv y otro a partir de credit_normalizado.csv. "
   ]
  },
  {
   "cell_type": "code",
   "execution_count": 3,
   "metadata": {},
   "outputs": [],
   "source": [
    "mvp_funciones_movies = pd.read_csv('movies_ampliada.csv')"
   ]
  },
  {
   "cell_type": "code",
   "execution_count": 4,
   "metadata": {},
   "outputs": [
    {
     "name": "stdout",
     "output_type": "stream",
     "text": [
      "<class 'pandas.core.frame.DataFrame'>\n",
      "RangeIndex: 54360 entries, 0 to 54359\n",
      "Data columns (total 22 columns):\n",
      " #   Column             Non-Null Count  Dtype  \n",
      "---  ------             --------------  -----  \n",
      " 0   Unnamed: 0.1       54360 non-null  int64  \n",
      " 1   Unnamed: 0         54360 non-null  int64  \n",
      " 2   pelicula_id        54360 non-null  int64  \n",
      " 3   franquicia_id      54360 non-null  float64\n",
      " 4   franquicia         54360 non-null  object \n",
      " 5   genero_id          54218 non-null  float64\n",
      " 6   nombre_genero      54218 non-null  object \n",
      " 7   compañia           52673 non-null  object \n",
      " 8   compañia_id        52673 non-null  float64\n",
      " 9   iso_3166_1         53749 non-null  object \n",
      " 10  pais               53749 non-null  object \n",
      " 11  iso_639_1          54191 non-null  object \n",
      " 12  presupuesto        54360 non-null  float64\n",
      " 13  idioma_original    54360 non-null  object \n",
      " 14  titulo_original    54360 non-null  object \n",
      " 15  popularidad        54360 non-null  float64\n",
      " 16  fecha_realizacion  54360 non-null  object \n",
      " 17  recaudacion        54360 non-null  float64\n",
      " 18  duracion           54347 non-null  float64\n",
      " 19  puntaje_reseña     54360 non-null  float64\n",
      " 20  año_realizacion    54360 non-null  int64  \n",
      " 21  ganancia           35401 non-null  float64\n",
      "dtypes: float64(9), int64(4), object(9)\n",
      "memory usage: 9.1+ MB\n"
     ]
    }
   ],
   "source": [
    "mvp_funciones_movies.info()"
   ]
  },
  {
   "cell_type": "markdown",
   "metadata": {},
   "source": [
    "# 1°: \n",
    "# def peliculas_idioma( Idioma: str ): Se ingresa un idioma (como están escritos en el dataset, no hay que traducirlos!). Debe devolver la cantidad de películas producidas en ese idioma.\n",
    "Ejemplo de retorno: X cantidad de películas fueron estrenadas en idioma\n",
    "\n",
    "Primero creo un dataset con los dastos necesarios para correr esta funcion:"
   ]
  },
  {
   "cell_type": "code",
   "execution_count": 5,
   "metadata": {},
   "outputs": [],
   "source": [
    "mvp_funcion_idioma = mvp_funciones_movies[['idioma_original']]"
   ]
  },
  {
   "cell_type": "code",
   "execution_count": 6,
   "metadata": {},
   "outputs": [
    {
     "name": "stdout",
     "output_type": "stream",
     "text": [
      "<class 'pandas.core.frame.DataFrame'>\n",
      "RangeIndex: 54360 entries, 0 to 54359\n",
      "Data columns (total 1 columns):\n",
      " #   Column           Non-Null Count  Dtype \n",
      "---  ------           --------------  ----- \n",
      " 0   idioma_original  54360 non-null  object\n",
      "dtypes: object(1)\n",
      "memory usage: 424.8+ KB\n"
     ]
    }
   ],
   "source": [
    "mvp_funcion_idioma.info()"
   ]
  },
  {
   "cell_type": "code",
   "execution_count": 7,
   "metadata": {},
   "outputs": [],
   "source": [
    "mvp_funcion_idioma.to_csv('idioma_original.csv')"
   ]
  },
  {
   "cell_type": "code",
   "execution_count": 8,
   "metadata": {},
   "outputs": [],
   "source": [
    "def pelicula_idioma(idioma):\n",
    "    idioma = idioma\n",
    "    cantidad = mvp_funcion_idioma['idioma_original'].value_counts()[idioma]\n",
    "    return print(cantidad, ' peliculas fueron estrenadas en idioma', idioma)"
   ]
  },
  {
   "cell_type": "code",
   "execution_count": 9,
   "metadata": {},
   "outputs": [
    {
     "name": "stdout",
     "output_type": "stream",
     "text": [
      "38454  peliculas fueron estrenadas en idioma en\n"
     ]
    }
   ],
   "source": [
    "pelicula_idioma('en')"
   ]
  },
  {
   "cell_type": "markdown",
   "metadata": {},
   "source": [
    "# 2°:\n",
    "# def peliculas_duracion( Pelicula: str ): Se ingresa una pelicula. Debe devolver la duracion y el año.\n",
    "Ejemplo de retorno: X . Duración: x. Año: xx"
   ]
  },
  {
   "cell_type": "code",
   "execution_count": 10,
   "metadata": {},
   "outputs": [],
   "source": [
    "mvp_funcion_duracion = mvp_funciones_movies[['titulo_original', 'duracion', 'año_realizacion']]"
   ]
  },
  {
   "cell_type": "code",
   "execution_count": 11,
   "metadata": {},
   "outputs": [
    {
     "name": "stdout",
     "output_type": "stream",
     "text": [
      "<class 'pandas.core.frame.DataFrame'>\n",
      "RangeIndex: 54360 entries, 0 to 54359\n",
      "Data columns (total 3 columns):\n",
      " #   Column           Non-Null Count  Dtype  \n",
      "---  ------           --------------  -----  \n",
      " 0   titulo_original  54360 non-null  object \n",
      " 1   duracion         54347 non-null  float64\n",
      " 2   año_realizacion  54360 non-null  int64  \n",
      "dtypes: float64(1), int64(1), object(1)\n",
      "memory usage: 1.2+ MB\n"
     ]
    }
   ],
   "source": [
    "mvp_funcion_duracion.info()"
   ]
  },
  {
   "cell_type": "code",
   "execution_count": 12,
   "metadata": {},
   "outputs": [
    {
     "data": {
      "text/plain": [
       "49875"
      ]
     },
     "execution_count": 12,
     "metadata": {},
     "output_type": "execute_result"
    }
   ],
   "source": [
    "mvp_funcion_duracion.duplicated().sum()"
   ]
  },
  {
   "cell_type": "markdown",
   "metadata": {},
   "source": [
    "# Habiendo tantos registros repetidos, debo elimiar y deja un registro por titulo original."
   ]
  },
  {
   "cell_type": "code",
   "execution_count": 13,
   "metadata": {},
   "outputs": [
    {
     "name": "stdout",
     "output_type": "stream",
     "text": [
      "<class 'pandas.core.frame.DataFrame'>\n",
      "Int64Index: 4485 entries, 0 to 54358\n",
      "Data columns (total 3 columns):\n",
      " #   Column           Non-Null Count  Dtype  \n",
      "---  ------           --------------  -----  \n",
      " 0   titulo_original  4485 non-null   object \n",
      " 1   duracion         4478 non-null   float64\n",
      " 2   año_realizacion  4485 non-null   int64  \n",
      "dtypes: float64(1), int64(1), object(1)\n",
      "memory usage: 140.2+ KB\n"
     ]
    },
    {
     "name": "stderr",
     "output_type": "stream",
     "text": [
      "C:\\Users\\alfon\\AppData\\Local\\Temp\\ipykernel_18816\\1728495335.py:1: SettingWithCopyWarning: \n",
      "A value is trying to be set on a copy of a slice from a DataFrame\n",
      "\n",
      "See the caveats in the documentation: https://pandas.pydata.org/pandas-docs/stable/user_guide/indexing.html#returning-a-view-versus-a-copy\n",
      "  mvp_funcion_duracion.drop_duplicates(subset=['titulo_original', 'duracion', 'año_realizacion'], keep='first', inplace=True)\n"
     ]
    }
   ],
   "source": [
    "mvp_funcion_duracion.drop_duplicates(subset=['titulo_original', 'duracion', 'año_realizacion'], keep='first', inplace=True)\n",
    "mvp_funcion_duracion.duplicated().sum()\n",
    "mvp_funcion_duracion.info()"
   ]
  },
  {
   "cell_type": "code",
   "execution_count": 14,
   "metadata": {},
   "outputs": [],
   "source": [
    "mvp_funcion_duracion.to_csv('duracion.csv')"
   ]
  },
  {
   "cell_type": "code",
   "execution_count": 15,
   "metadata": {},
   "outputs": [],
   "source": [
    "def duracion_pelicula(pelicula):\n",
    "\n",
    "    duracion = mvp_funcion_duracion.loc[mvp_funcion_duracion['titulo_original'] == pelicula]['duracion'].values[0]\n",
    "    año = mvp_funcion_duracion.loc[mvp_funcion_duracion['titulo_original'] == pelicula]['año_realizacion'].values[0]\n",
    "    return print(pelicula, '. Duracion:', duracion, '. Año', año)\n"
   ]
  },
  {
   "cell_type": "code",
   "execution_count": 16,
   "metadata": {},
   "outputs": [
    {
     "name": "stdout",
     "output_type": "stream",
     "text": [
      "Toy Story . Duracion: 81.0 . Año 1995\n"
     ]
    }
   ],
   "source": [
    "duracion_pelicula('Toy Story')"
   ]
  },
  {
   "cell_type": "markdown",
   "metadata": {},
   "source": [
    "# 3°\n",
    "# def franquicia( Franquicia: str ): Se ingresa la franquicia, retornando la cantidad de peliculas, ganancia total y promedio\n",
    "Ejemplo de retorno: La franquicia X posee X peliculas, una ganancia total de x y una ganancia promedio de xx"
   ]
  },
  {
   "cell_type": "code",
   "execution_count": 17,
   "metadata": {},
   "outputs": [
    {
     "name": "stdout",
     "output_type": "stream",
     "text": [
      "<class 'pandas.core.frame.DataFrame'>\n",
      "RangeIndex: 54360 entries, 0 to 54359\n",
      "Data columns (total 3 columns):\n",
      " #   Column           Non-Null Count  Dtype  \n",
      "---  ------           --------------  -----  \n",
      " 0   franquicia       54360 non-null  object \n",
      " 1   titulo_original  54360 non-null  object \n",
      " 2   recaudacion      54360 non-null  float64\n",
      "dtypes: float64(1), object(2)\n",
      "memory usage: 1.2+ MB\n"
     ]
    }
   ],
   "source": [
    "mvp_funcion_franquicia = mvp_funciones_movies[['franquicia', 'titulo_original', 'recaudacion']]\n",
    "mvp_funcion_franquicia.info()"
   ]
  },
  {
   "cell_type": "code",
   "execution_count": 18,
   "metadata": {},
   "outputs": [
    {
     "data": {
      "text/plain": [
       "49879"
      ]
     },
     "execution_count": 18,
     "metadata": {},
     "output_type": "execute_result"
    }
   ],
   "source": [
    "mvp_funcion_franquicia.duplicated().sum()"
   ]
  },
  {
   "cell_type": "code",
   "execution_count": 19,
   "metadata": {},
   "outputs": [
    {
     "name": "stdout",
     "output_type": "stream",
     "text": [
      "<class 'pandas.core.frame.DataFrame'>\n",
      "Int64Index: 4481 entries, 0 to 54358\n",
      "Data columns (total 3 columns):\n",
      " #   Column           Non-Null Count  Dtype  \n",
      "---  ------           --------------  -----  \n",
      " 0   franquicia       4481 non-null   object \n",
      " 1   titulo_original  4481 non-null   object \n",
      " 2   recaudacion      4481 non-null   float64\n",
      "dtypes: float64(1), object(2)\n",
      "memory usage: 140.0+ KB\n"
     ]
    },
    {
     "name": "stderr",
     "output_type": "stream",
     "text": [
      "C:\\Users\\alfon\\AppData\\Local\\Temp\\ipykernel_18816\\2519940161.py:1: SettingWithCopyWarning: \n",
      "A value is trying to be set on a copy of a slice from a DataFrame\n",
      "\n",
      "See the caveats in the documentation: https://pandas.pydata.org/pandas-docs/stable/user_guide/indexing.html#returning-a-view-versus-a-copy\n",
      "  mvp_funcion_franquicia.drop_duplicates(subset=['franquicia', 'titulo_original', 'recaudacion'], keep='first', inplace=True)\n"
     ]
    }
   ],
   "source": [
    "mvp_funcion_franquicia.drop_duplicates(subset=['franquicia', 'titulo_original', 'recaudacion'], keep='first', inplace=True)\n",
    "mvp_funcion_franquicia.duplicated().sum()\n",
    "mvp_funcion_franquicia.info()"
   ]
  },
  {
   "cell_type": "code",
   "execution_count": 20,
   "metadata": {},
   "outputs": [
    {
     "data": {
      "text/html": [
       "<div>\n",
       "<style scoped>\n",
       "    .dataframe tbody tr th:only-of-type {\n",
       "        vertical-align: middle;\n",
       "    }\n",
       "\n",
       "    .dataframe tbody tr th {\n",
       "        vertical-align: top;\n",
       "    }\n",
       "\n",
       "    .dataframe thead th {\n",
       "        text-align: right;\n",
       "    }\n",
       "</style>\n",
       "<table border=\"1\" class=\"dataframe\">\n",
       "  <thead>\n",
       "    <tr style=\"text-align: right;\">\n",
       "      <th></th>\n",
       "      <th>franquicia</th>\n",
       "      <th>titulo_original</th>\n",
       "      <th>recaudacion</th>\n",
       "    </tr>\n",
       "  </thead>\n",
       "  <tbody>\n",
       "    <tr>\n",
       "      <th>0</th>\n",
       "      <td>Toy Story Collection</td>\n",
       "      <td>Toy Story</td>\n",
       "      <td>373554033.0</td>\n",
       "    </tr>\n",
       "    <tr>\n",
       "      <th>3</th>\n",
       "      <td>Grumpy Old Men Collection</td>\n",
       "      <td>Grumpier Old Men</td>\n",
       "      <td>0.0</td>\n",
       "    </tr>\n",
       "    <tr>\n",
       "      <th>7</th>\n",
       "      <td>Father of the Bride Collection</td>\n",
       "      <td>Father of the Bride Part II</td>\n",
       "      <td>76578911.0</td>\n",
       "    </tr>\n",
       "    <tr>\n",
       "      <th>9</th>\n",
       "      <td>James Bond Collection</td>\n",
       "      <td>GoldenEye</td>\n",
       "      <td>352194034.0</td>\n",
       "    </tr>\n",
       "    <tr>\n",
       "      <th>45</th>\n",
       "      <td>Balto Collection</td>\n",
       "      <td>Balto</td>\n",
       "      <td>11348324.0</td>\n",
       "    </tr>\n",
       "  </tbody>\n",
       "</table>\n",
       "</div>"
      ],
      "text/plain": [
       "                        franquicia              titulo_original  recaudacion\n",
       "0             Toy Story Collection                    Toy Story  373554033.0\n",
       "3        Grumpy Old Men Collection             Grumpier Old Men          0.0\n",
       "7   Father of the Bride Collection  Father of the Bride Part II   76578911.0\n",
       "9            James Bond Collection                    GoldenEye  352194034.0\n",
       "45                Balto Collection                        Balto   11348324.0"
      ]
     },
     "execution_count": 20,
     "metadata": {},
     "output_type": "execute_result"
    }
   ],
   "source": [
    "mvp_funcion_franquicia.head()"
   ]
  },
  {
   "cell_type": "code",
   "execution_count": 21,
   "metadata": {},
   "outputs": [],
   "source": [
    "mvp_funcion_franquicia.to_csv('franquicias.csv')"
   ]
  },
  {
   "cell_type": "code",
   "execution_count": 22,
   "metadata": {},
   "outputs": [],
   "source": [
    "def franquicia(franquicia):\n",
    "    cantidad_titulos = mvp_funcion_franquicia.loc[mvp_funcion_franquicia['franquicia'] == franquicia]['titulo_original'].count()\n",
    "    recaudacion_total = mvp_funcion_franquicia.loc[mvp_funcion_franquicia['franquicia'] == franquicia]['recaudacion'].sum()\n",
    "    recaudacion = ('US${:,}'.format(round(recaudacion_total)))\n",
    "    recaudacion_promedio = recaudacion_total / cantidad_titulos\n",
    "    recaudacion_prom = ('US${:,}'.format(round(recaudacion_promedio)))\n",
    "    return print('La franquicia', franquicia, 'posee', cantidad_titulos, 'peliculas', 'una ganancia total de', recaudacion, 'y una ganancia promedio de', recaudacion_prom)"
   ]
  },
  {
   "cell_type": "code",
   "execution_count": 23,
   "metadata": {},
   "outputs": [
    {
     "name": "stdout",
     "output_type": "stream",
     "text": [
      "La franquicia Toy Story Collection posee 3 peliculas una ganancia total de US$1,937,890,605 y una ganancia promedio de US$645,963,535\n"
     ]
    }
   ],
   "source": [
    "franquicia('Toy Story Collection')"
   ]
  },
  {
   "cell_type": "markdown",
   "metadata": {},
   "source": [
    "# 4°\n",
    "# def peliculas_pais( Pais: str ): Se ingresa un país (como están escritos en el dataset, no hay que traducirlos!), retornando la cantidad de peliculas producidas en el mismo.\n",
    "Ejemplo de retorno: Se produjeron X películas en el país X"
   ]
  },
  {
   "cell_type": "code",
   "execution_count": 24,
   "metadata": {},
   "outputs": [
    {
     "name": "stdout",
     "output_type": "stream",
     "text": [
      "<class 'pandas.core.frame.DataFrame'>\n",
      "RangeIndex: 54360 entries, 0 to 54359\n",
      "Data columns (total 2 columns):\n",
      " #   Column           Non-Null Count  Dtype \n",
      "---  ------           --------------  ----- \n",
      " 0   titulo_original  54360 non-null  object\n",
      " 1   pais             53749 non-null  object\n",
      "dtypes: object(2)\n",
      "memory usage: 849.5+ KB\n"
     ]
    }
   ],
   "source": [
    "mvp_funcion_pais = mvp_funciones_movies[['titulo_original', 'pais']]\n",
    "mvp_funcion_pais.info()"
   ]
  },
  {
   "cell_type": "code",
   "execution_count": 25,
   "metadata": {},
   "outputs": [
    {
     "data": {
      "text/plain": [
       "48854"
      ]
     },
     "execution_count": 25,
     "metadata": {},
     "output_type": "execute_result"
    }
   ],
   "source": [
    "mvp_funcion_pais.duplicated().sum()"
   ]
  },
  {
   "cell_type": "code",
   "execution_count": 26,
   "metadata": {},
   "outputs": [
    {
     "name": "stdout",
     "output_type": "stream",
     "text": [
      "<class 'pandas.core.frame.DataFrame'>\n",
      "Int64Index: 5506 entries, 0 to 54358\n",
      "Data columns (total 2 columns):\n",
      " #   Column           Non-Null Count  Dtype \n",
      "---  ------           --------------  ----- \n",
      " 0   titulo_original  5506 non-null   object\n",
      " 1   pais             5262 non-null   object\n",
      "dtypes: object(2)\n",
      "memory usage: 129.0+ KB\n"
     ]
    },
    {
     "name": "stderr",
     "output_type": "stream",
     "text": [
      "C:\\Users\\alfon\\AppData\\Local\\Temp\\ipykernel_18816\\4093546167.py:1: SettingWithCopyWarning: \n",
      "A value is trying to be set on a copy of a slice from a DataFrame\n",
      "\n",
      "See the caveats in the documentation: https://pandas.pydata.org/pandas-docs/stable/user_guide/indexing.html#returning-a-view-versus-a-copy\n",
      "  mvp_funcion_pais.drop_duplicates(subset = ['titulo_original', 'pais'], keep = 'first', inplace=True)\n"
     ]
    }
   ],
   "source": [
    "mvp_funcion_pais.drop_duplicates(subset = ['titulo_original', 'pais'], keep = 'first', inplace=True)\n",
    "mvp_funcion_pais.info()"
   ]
  },
  {
   "cell_type": "code",
   "execution_count": 27,
   "metadata": {},
   "outputs": [
    {
     "data": {
      "text/html": [
       "<div>\n",
       "<style scoped>\n",
       "    .dataframe tbody tr th:only-of-type {\n",
       "        vertical-align: middle;\n",
       "    }\n",
       "\n",
       "    .dataframe tbody tr th {\n",
       "        vertical-align: top;\n",
       "    }\n",
       "\n",
       "    .dataframe thead th {\n",
       "        text-align: right;\n",
       "    }\n",
       "</style>\n",
       "<table border=\"1\" class=\"dataframe\">\n",
       "  <thead>\n",
       "    <tr style=\"text-align: right;\">\n",
       "      <th></th>\n",
       "      <th>titulo_original</th>\n",
       "      <th>pais</th>\n",
       "    </tr>\n",
       "  </thead>\n",
       "  <tbody>\n",
       "    <tr>\n",
       "      <th>0</th>\n",
       "      <td>Toy Story</td>\n",
       "      <td>United States of America</td>\n",
       "    </tr>\n",
       "    <tr>\n",
       "      <th>3</th>\n",
       "      <td>Grumpier Old Men</td>\n",
       "      <td>United States of America</td>\n",
       "    </tr>\n",
       "    <tr>\n",
       "      <th>7</th>\n",
       "      <td>Father of the Bride Part II</td>\n",
       "      <td>United States of America</td>\n",
       "    </tr>\n",
       "    <tr>\n",
       "      <th>9</th>\n",
       "      <td>GoldenEye</td>\n",
       "      <td>United Kingdom</td>\n",
       "    </tr>\n",
       "    <tr>\n",
       "      <th>12</th>\n",
       "      <td>GoldenEye</td>\n",
       "      <td>United States of America</td>\n",
       "    </tr>\n",
       "  </tbody>\n",
       "</table>\n",
       "</div>"
      ],
      "text/plain": [
       "                titulo_original                      pais\n",
       "0                     Toy Story  United States of America\n",
       "3              Grumpier Old Men  United States of America\n",
       "7   Father of the Bride Part II  United States of America\n",
       "9                     GoldenEye            United Kingdom\n",
       "12                    GoldenEye  United States of America"
      ]
     },
     "execution_count": 27,
     "metadata": {},
     "output_type": "execute_result"
    }
   ],
   "source": [
    "mvp_funcion_pais.head()"
   ]
  },
  {
   "cell_type": "code",
   "execution_count": 28,
   "metadata": {},
   "outputs": [],
   "source": [
    "mvp_funcion_pais.to_csv('paises.csv')"
   ]
  },
  {
   "cell_type": "code",
   "execution_count": 29,
   "metadata": {},
   "outputs": [],
   "source": [
    "def pelicula_pais(pais):\n",
    "    pais = pais\n",
    "    cantidad = mvp_funcion_pais['pais'].value_counts()[pais]\n",
    "    return print('Se producjeron ', cantidad, ' peliculas en', pais)"
   ]
  },
  {
   "cell_type": "code",
   "execution_count": 30,
   "metadata": {},
   "outputs": [
    {
     "name": "stdout",
     "output_type": "stream",
     "text": [
      "Se producjeron  2546  peliculas en United States of America\n"
     ]
    }
   ],
   "source": [
    "pelicula_pais('United States of America')"
   ]
  },
  {
   "cell_type": "markdown",
   "metadata": {},
   "source": [
    "# 5°\n",
    "# def productoras_exitosas( Productora: str ): Se ingresa la productora, entregandote el revunue total y la cantidad de peliculas que realizo.\n",
    "Ejemplo de retorno: La productora X ha tenido un revenue de x"
   ]
  },
  {
   "cell_type": "code",
   "execution_count": 31,
   "metadata": {},
   "outputs": [
    {
     "data": {
      "text/plain": [
       "45206"
      ]
     },
     "execution_count": 31,
     "metadata": {},
     "output_type": "execute_result"
    }
   ],
   "source": [
    "mvp_funcion_productora = mvp_funciones_movies[['pelicula_id', 'compañia', 'recaudacion']]\n",
    "mvp_funcion_productora.duplicated().sum()"
   ]
  },
  {
   "cell_type": "code",
   "execution_count": 32,
   "metadata": {},
   "outputs": [
    {
     "name": "stderr",
     "output_type": "stream",
     "text": [
      "C:\\Users\\alfon\\AppData\\Local\\Temp\\ipykernel_18816\\1828740154.py:1: SettingWithCopyWarning: \n",
      "A value is trying to be set on a copy of a slice from a DataFrame\n",
      "\n",
      "See the caveats in the documentation: https://pandas.pydata.org/pandas-docs/stable/user_guide/indexing.html#returning-a-view-versus-a-copy\n",
      "  mvp_funcion_productora.drop_duplicates(subset=['pelicula_id', 'compañia', 'recaudacion'], keep = 'first', inplace=True)\n"
     ]
    }
   ],
   "source": [
    "mvp_funcion_productora.drop_duplicates(subset=['pelicula_id', 'compañia', 'recaudacion'], keep = 'first', inplace=True)"
   ]
  },
  {
   "cell_type": "code",
   "execution_count": 33,
   "metadata": {},
   "outputs": [
    {
     "data": {
      "text/html": [
       "<div>\n",
       "<style scoped>\n",
       "    .dataframe tbody tr th:only-of-type {\n",
       "        vertical-align: middle;\n",
       "    }\n",
       "\n",
       "    .dataframe tbody tr th {\n",
       "        vertical-align: top;\n",
       "    }\n",
       "\n",
       "    .dataframe thead th {\n",
       "        text-align: right;\n",
       "    }\n",
       "</style>\n",
       "<table border=\"1\" class=\"dataframe\">\n",
       "  <thead>\n",
       "    <tr style=\"text-align: right;\">\n",
       "      <th></th>\n",
       "      <th>pelicula_id</th>\n",
       "      <th>compañia</th>\n",
       "      <th>recaudacion</th>\n",
       "    </tr>\n",
       "  </thead>\n",
       "  <tbody>\n",
       "    <tr>\n",
       "      <th>0</th>\n",
       "      <td>862</td>\n",
       "      <td>Pixar Animation Studios</td>\n",
       "      <td>373554033.0</td>\n",
       "    </tr>\n",
       "    <tr>\n",
       "      <th>3</th>\n",
       "      <td>15602</td>\n",
       "      <td>Warner Bros.</td>\n",
       "      <td>0.0</td>\n",
       "    </tr>\n",
       "    <tr>\n",
       "      <th>4</th>\n",
       "      <td>15602</td>\n",
       "      <td>Lancaster Gate</td>\n",
       "      <td>0.0</td>\n",
       "    </tr>\n",
       "    <tr>\n",
       "      <th>7</th>\n",
       "      <td>11862</td>\n",
       "      <td>Sandollar Productions</td>\n",
       "      <td>76578911.0</td>\n",
       "    </tr>\n",
       "    <tr>\n",
       "      <th>8</th>\n",
       "      <td>11862</td>\n",
       "      <td>Touchstone Pictures</td>\n",
       "      <td>76578911.0</td>\n",
       "    </tr>\n",
       "  </tbody>\n",
       "</table>\n",
       "</div>"
      ],
      "text/plain": [
       "   pelicula_id                 compañia  recaudacion\n",
       "0          862  Pixar Animation Studios  373554033.0\n",
       "3        15602             Warner Bros.          0.0\n",
       "4        15602           Lancaster Gate          0.0\n",
       "7        11862    Sandollar Productions   76578911.0\n",
       "8        11862      Touchstone Pictures   76578911.0"
      ]
     },
     "execution_count": 33,
     "metadata": {},
     "output_type": "execute_result"
    }
   ],
   "source": [
    "mvp_funcion_productora.head()"
   ]
  },
  {
   "cell_type": "code",
   "execution_count": 34,
   "metadata": {},
   "outputs": [],
   "source": [
    "mvp_funcion_productora.to_csv('productoras.csv')"
   ]
  },
  {
   "cell_type": "code",
   "execution_count": 35,
   "metadata": {},
   "outputs": [],
   "source": [
    "def productora_exitosa(compañia):\n",
    "    funcion_productora = mvp_funcion_productora.loc[mvp_funcion_productora['compañia'].isin([compañia])]\n",
    "    revenue = funcion_productora['recaudacion'].sum()\n",
    "    revenue_res = ('{:,}'.format(round(revenue)))\n",
    "    cantidad = funcion_productora['pelicula_id'].nunique()\n",
    "\n",
    "    return print(\n",
    "        'La productora',compañia,'ha tenido un revenue total de USD$'+revenue_res+','\n",
    "        '\\ny realizo un total de',cantidad,'peliculas.'\n",
    "        )\n",
    "    "
   ]
  },
  {
   "cell_type": "code",
   "execution_count": 36,
   "metadata": {},
   "outputs": [
    {
     "name": "stdout",
     "output_type": "stream",
     "text": [
      "La productora Pixar Animation Studios ha tenido un revenue total de USD$7,216,620,587,\n",
      "y realizo un total de 12 peliculas.\n"
     ]
    }
   ],
   "source": [
    "productora_exitosa('Pixar Animation Studios')"
   ]
  },
  {
   "cell_type": "markdown",
   "metadata": {},
   "source": [
    "# 6°\n",
    "# def get_director( nombre_director ): Se ingresa el nombre de un director que se encuentre dentro de un dataset debiendo devolver el éxito del mismo medido a través del retorno. Además, deberá devolver el nombre de cada película con la fecha de lanzamiento, retorno individual, costo y ganancia de la misma, en formato lista."
   ]
  },
  {
   "cell_type": "markdown",
   "metadata": {},
   "source": [
    "Para ello antes debemos crear un dataset especifico para ello:"
   ]
  },
  {
   "cell_type": "code",
   "execution_count": 37,
   "metadata": {},
   "outputs": [],
   "source": [
    "mvp_funcion_director_movies = mvp_funciones_movies.loc[:, ['pelicula_id', 'titulo_original', 'recaudacion', 'fecha_realizacion', 'presupuesto', 'ganancia']]\n"
   ]
  },
  {
   "cell_type": "code",
   "execution_count": 38,
   "metadata": {},
   "outputs": [
    {
     "data": {
      "text/html": [
       "<div>\n",
       "<style scoped>\n",
       "    .dataframe tbody tr th:only-of-type {\n",
       "        vertical-align: middle;\n",
       "    }\n",
       "\n",
       "    .dataframe tbody tr th {\n",
       "        vertical-align: top;\n",
       "    }\n",
       "\n",
       "    .dataframe thead th {\n",
       "        text-align: right;\n",
       "    }\n",
       "</style>\n",
       "<table border=\"1\" class=\"dataframe\">\n",
       "  <thead>\n",
       "    <tr style=\"text-align: right;\">\n",
       "      <th></th>\n",
       "      <th>pelicula_id</th>\n",
       "      <th>titulo_original</th>\n",
       "      <th>recaudacion</th>\n",
       "      <th>fecha_realizacion</th>\n",
       "      <th>presupuesto</th>\n",
       "      <th>ganancia</th>\n",
       "    </tr>\n",
       "  </thead>\n",
       "  <tbody>\n",
       "    <tr>\n",
       "      <th>0</th>\n",
       "      <td>862</td>\n",
       "      <td>Toy Story</td>\n",
       "      <td>373554033.0</td>\n",
       "      <td>1995-10-30</td>\n",
       "      <td>30000000.0</td>\n",
       "      <td>12.451801</td>\n",
       "    </tr>\n",
       "    <tr>\n",
       "      <th>1</th>\n",
       "      <td>862</td>\n",
       "      <td>Toy Story</td>\n",
       "      <td>373554033.0</td>\n",
       "      <td>1995-10-30</td>\n",
       "      <td>30000000.0</td>\n",
       "      <td>12.451801</td>\n",
       "    </tr>\n",
       "    <tr>\n",
       "      <th>2</th>\n",
       "      <td>862</td>\n",
       "      <td>Toy Story</td>\n",
       "      <td>373554033.0</td>\n",
       "      <td>1995-10-30</td>\n",
       "      <td>30000000.0</td>\n",
       "      <td>12.451801</td>\n",
       "    </tr>\n",
       "    <tr>\n",
       "      <th>3</th>\n",
       "      <td>15602</td>\n",
       "      <td>Grumpier Old Men</td>\n",
       "      <td>0.0</td>\n",
       "      <td>1995-12-22</td>\n",
       "      <td>0.0</td>\n",
       "      <td>NaN</td>\n",
       "    </tr>\n",
       "    <tr>\n",
       "      <th>4</th>\n",
       "      <td>15602</td>\n",
       "      <td>Grumpier Old Men</td>\n",
       "      <td>0.0</td>\n",
       "      <td>1995-12-22</td>\n",
       "      <td>0.0</td>\n",
       "      <td>NaN</td>\n",
       "    </tr>\n",
       "  </tbody>\n",
       "</table>\n",
       "</div>"
      ],
      "text/plain": [
       "   pelicula_id   titulo_original  recaudacion fecha_realizacion  presupuesto  \\\n",
       "0          862         Toy Story  373554033.0        1995-10-30   30000000.0   \n",
       "1          862         Toy Story  373554033.0        1995-10-30   30000000.0   \n",
       "2          862         Toy Story  373554033.0        1995-10-30   30000000.0   \n",
       "3        15602  Grumpier Old Men          0.0        1995-12-22          0.0   \n",
       "4        15602  Grumpier Old Men          0.0        1995-12-22          0.0   \n",
       "\n",
       "    ganancia  \n",
       "0  12.451801  \n",
       "1  12.451801  \n",
       "2  12.451801  \n",
       "3        NaN  \n",
       "4        NaN  "
      ]
     },
     "execution_count": 38,
     "metadata": {},
     "output_type": "execute_result"
    }
   ],
   "source": [
    "mvp_funcion_director_movies.head()"
   ]
  },
  {
   "cell_type": "code",
   "execution_count": 39,
   "metadata": {},
   "outputs": [
    {
     "name": "stdout",
     "output_type": "stream",
     "text": [
      "<class 'pandas.core.frame.DataFrame'>\n",
      "RangeIndex: 54360 entries, 0 to 54359\n",
      "Data columns (total 6 columns):\n",
      " #   Column             Non-Null Count  Dtype  \n",
      "---  ------             --------------  -----  \n",
      " 0   pelicula_id        54360 non-null  int64  \n",
      " 1   titulo_original    54360 non-null  object \n",
      " 2   recaudacion        54360 non-null  float64\n",
      " 3   fecha_realizacion  54360 non-null  object \n",
      " 4   presupuesto        54360 non-null  float64\n",
      " 5   ganancia           54360 non-null  float64\n",
      "dtypes: float64(3), int64(1), object(2)\n",
      "memory usage: 2.5+ MB\n"
     ]
    }
   ],
   "source": [
    "mvp_funcion_director_movies['ganancia'].fillna(0, inplace=True)\n",
    "mvp_funcion_director_movies.head()\n",
    "mvp_funcion_director_movies.info()"
   ]
  },
  {
   "cell_type": "code",
   "execution_count": 40,
   "metadata": {},
   "outputs": [
    {
     "data": {
      "text/html": [
       "<div>\n",
       "<style scoped>\n",
       "    .dataframe tbody tr th:only-of-type {\n",
       "        vertical-align: middle;\n",
       "    }\n",
       "\n",
       "    .dataframe tbody tr th {\n",
       "        vertical-align: top;\n",
       "    }\n",
       "\n",
       "    .dataframe thead th {\n",
       "        text-align: right;\n",
       "    }\n",
       "</style>\n",
       "<table border=\"1\" class=\"dataframe\">\n",
       "  <thead>\n",
       "    <tr style=\"text-align: right;\">\n",
       "      <th></th>\n",
       "      <th>Unnamed: 0</th>\n",
       "      <th>pelicula_id</th>\n",
       "      <th>puesto</th>\n",
       "      <th>crew_nombre</th>\n",
       "      <th>presupuesto</th>\n",
       "      <th>recaudacion</th>\n",
       "    </tr>\n",
       "  </thead>\n",
       "  <tbody>\n",
       "    <tr>\n",
       "      <th>0</th>\n",
       "      <td>0</td>\n",
       "      <td>862</td>\n",
       "      <td>Director</td>\n",
       "      <td>John Lasseter</td>\n",
       "      <td>30000000.0</td>\n",
       "      <td>373554033.0</td>\n",
       "    </tr>\n",
       "    <tr>\n",
       "      <th>1</th>\n",
       "      <td>1</td>\n",
       "      <td>862</td>\n",
       "      <td>Screenplay</td>\n",
       "      <td>Joss Whedon</td>\n",
       "      <td>30000000.0</td>\n",
       "      <td>373554033.0</td>\n",
       "    </tr>\n",
       "    <tr>\n",
       "      <th>2</th>\n",
       "      <td>2</td>\n",
       "      <td>862</td>\n",
       "      <td>Screenplay</td>\n",
       "      <td>Andrew Stanton</td>\n",
       "      <td>30000000.0</td>\n",
       "      <td>373554033.0</td>\n",
       "    </tr>\n",
       "    <tr>\n",
       "      <th>3</th>\n",
       "      <td>3</td>\n",
       "      <td>862</td>\n",
       "      <td>Screenplay</td>\n",
       "      <td>Joel Cohen</td>\n",
       "      <td>30000000.0</td>\n",
       "      <td>373554033.0</td>\n",
       "    </tr>\n",
       "    <tr>\n",
       "      <th>4</th>\n",
       "      <td>4</td>\n",
       "      <td>862</td>\n",
       "      <td>Screenplay</td>\n",
       "      <td>Alec Sokolow</td>\n",
       "      <td>30000000.0</td>\n",
       "      <td>373554033.0</td>\n",
       "    </tr>\n",
       "  </tbody>\n",
       "</table>\n",
       "</div>"
      ],
      "text/plain": [
       "   Unnamed: 0  pelicula_id      puesto     crew_nombre  presupuesto  \\\n",
       "0           0          862    Director   John Lasseter   30000000.0   \n",
       "1           1          862  Screenplay     Joss Whedon   30000000.0   \n",
       "2           2          862  Screenplay  Andrew Stanton   30000000.0   \n",
       "3           3          862  Screenplay      Joel Cohen   30000000.0   \n",
       "4           4          862  Screenplay    Alec Sokolow   30000000.0   \n",
       "\n",
       "   recaudacion  \n",
       "0  373554033.0  \n",
       "1  373554033.0  \n",
       "2  373554033.0  \n",
       "3  373554033.0  \n",
       "4  373554033.0  "
      ]
     },
     "execution_count": 40,
     "metadata": {},
     "output_type": "execute_result"
    }
   ],
   "source": [
    "mvp_funcion_director = pd.read_csv('directores.csv')\n",
    "mvp_funcion_director.head()"
   ]
  },
  {
   "cell_type": "code",
   "execution_count": 41,
   "metadata": {},
   "outputs": [
    {
     "data": {
      "text/html": [
       "<div>\n",
       "<style scoped>\n",
       "    .dataframe tbody tr th:only-of-type {\n",
       "        vertical-align: middle;\n",
       "    }\n",
       "\n",
       "    .dataframe tbody tr th {\n",
       "        vertical-align: top;\n",
       "    }\n",
       "\n",
       "    .dataframe thead th {\n",
       "        text-align: right;\n",
       "    }\n",
       "</style>\n",
       "<table border=\"1\" class=\"dataframe\">\n",
       "  <thead>\n",
       "    <tr style=\"text-align: right;\">\n",
       "      <th></th>\n",
       "      <th>Unnamed: 0</th>\n",
       "      <th>pelicula_id</th>\n",
       "      <th>puesto</th>\n",
       "      <th>crew_nombre</th>\n",
       "      <th>presupuesto_x</th>\n",
       "      <th>recaudacion_x</th>\n",
       "      <th>titulo_original</th>\n",
       "      <th>recaudacion_y</th>\n",
       "      <th>fecha_realizacion</th>\n",
       "      <th>presupuesto_y</th>\n",
       "      <th>ganancia</th>\n",
       "    </tr>\n",
       "  </thead>\n",
       "  <tbody>\n",
       "    <tr>\n",
       "      <th>0</th>\n",
       "      <td>0</td>\n",
       "      <td>862</td>\n",
       "      <td>Director</td>\n",
       "      <td>John Lasseter</td>\n",
       "      <td>30000000.0</td>\n",
       "      <td>373554033.0</td>\n",
       "      <td>Toy Story</td>\n",
       "      <td>373554033.0</td>\n",
       "      <td>1995-10-30</td>\n",
       "      <td>30000000.0</td>\n",
       "      <td>12.451801</td>\n",
       "    </tr>\n",
       "    <tr>\n",
       "      <th>1</th>\n",
       "      <td>0</td>\n",
       "      <td>862</td>\n",
       "      <td>Director</td>\n",
       "      <td>John Lasseter</td>\n",
       "      <td>30000000.0</td>\n",
       "      <td>373554033.0</td>\n",
       "      <td>Toy Story</td>\n",
       "      <td>373554033.0</td>\n",
       "      <td>1995-10-30</td>\n",
       "      <td>30000000.0</td>\n",
       "      <td>12.451801</td>\n",
       "    </tr>\n",
       "    <tr>\n",
       "      <th>2</th>\n",
       "      <td>0</td>\n",
       "      <td>862</td>\n",
       "      <td>Director</td>\n",
       "      <td>John Lasseter</td>\n",
       "      <td>30000000.0</td>\n",
       "      <td>373554033.0</td>\n",
       "      <td>Toy Story</td>\n",
       "      <td>373554033.0</td>\n",
       "      <td>1995-10-30</td>\n",
       "      <td>30000000.0</td>\n",
       "      <td>12.451801</td>\n",
       "    </tr>\n",
       "    <tr>\n",
       "      <th>3</th>\n",
       "      <td>106</td>\n",
       "      <td>862</td>\n",
       "      <td>Director</td>\n",
       "      <td>John Lasseter</td>\n",
       "      <td>30000000.0</td>\n",
       "      <td>373554033.0</td>\n",
       "      <td>Toy Story</td>\n",
       "      <td>373554033.0</td>\n",
       "      <td>1995-10-30</td>\n",
       "      <td>30000000.0</td>\n",
       "      <td>12.451801</td>\n",
       "    </tr>\n",
       "    <tr>\n",
       "      <th>4</th>\n",
       "      <td>106</td>\n",
       "      <td>862</td>\n",
       "      <td>Director</td>\n",
       "      <td>John Lasseter</td>\n",
       "      <td>30000000.0</td>\n",
       "      <td>373554033.0</td>\n",
       "      <td>Toy Story</td>\n",
       "      <td>373554033.0</td>\n",
       "      <td>1995-10-30</td>\n",
       "      <td>30000000.0</td>\n",
       "      <td>12.451801</td>\n",
       "    </tr>\n",
       "  </tbody>\n",
       "</table>\n",
       "</div>"
      ],
      "text/plain": [
       "   Unnamed: 0  pelicula_id    puesto    crew_nombre  presupuesto_x  \\\n",
       "0           0          862  Director  John Lasseter     30000000.0   \n",
       "1           0          862  Director  John Lasseter     30000000.0   \n",
       "2           0          862  Director  John Lasseter     30000000.0   \n",
       "3         106          862  Director  John Lasseter     30000000.0   \n",
       "4         106          862  Director  John Lasseter     30000000.0   \n",
       "\n",
       "   recaudacion_x titulo_original  recaudacion_y fecha_realizacion  \\\n",
       "0    373554033.0       Toy Story    373554033.0        1995-10-30   \n",
       "1    373554033.0       Toy Story    373554033.0        1995-10-30   \n",
       "2    373554033.0       Toy Story    373554033.0        1995-10-30   \n",
       "3    373554033.0       Toy Story    373554033.0        1995-10-30   \n",
       "4    373554033.0       Toy Story    373554033.0        1995-10-30   \n",
       "\n",
       "   presupuesto_y   ganancia  \n",
       "0     30000000.0  12.451801  \n",
       "1     30000000.0  12.451801  \n",
       "2     30000000.0  12.451801  \n",
       "3     30000000.0  12.451801  \n",
       "4     30000000.0  12.451801  "
      ]
     },
     "execution_count": 41,
     "metadata": {},
     "output_type": "execute_result"
    }
   ],
   "source": [
    "mvp_funcion_dir = pd.merge(mvp_funcion_director[mvp_funcion_director['puesto'] == 'Director'], mvp_funcion_director_movies, on='pelicula_id')\n",
    "mvp_funcion_dir.head()"
   ]
  },
  {
   "cell_type": "code",
   "execution_count": 42,
   "metadata": {},
   "outputs": [
    {
     "data": {
      "text/html": [
       "<div>\n",
       "<style scoped>\n",
       "    .dataframe tbody tr th:only-of-type {\n",
       "        vertical-align: middle;\n",
       "    }\n",
       "\n",
       "    .dataframe tbody tr th {\n",
       "        vertical-align: top;\n",
       "    }\n",
       "\n",
       "    .dataframe thead th {\n",
       "        text-align: right;\n",
       "    }\n",
       "</style>\n",
       "<table border=\"1\" class=\"dataframe\">\n",
       "  <thead>\n",
       "    <tr style=\"text-align: right;\">\n",
       "      <th></th>\n",
       "      <th>pelicula_id</th>\n",
       "      <th>puesto</th>\n",
       "      <th>crew_nombre</th>\n",
       "      <th>presupuesto_x</th>\n",
       "      <th>recaudacion_x</th>\n",
       "      <th>titulo_original</th>\n",
       "      <th>recaudacion_y</th>\n",
       "      <th>fecha_realizacion</th>\n",
       "      <th>presupuesto_y</th>\n",
       "      <th>ganancia</th>\n",
       "    </tr>\n",
       "  </thead>\n",
       "  <tbody>\n",
       "    <tr>\n",
       "      <th>0</th>\n",
       "      <td>862</td>\n",
       "      <td>Director</td>\n",
       "      <td>John Lasseter</td>\n",
       "      <td>30000000.0</td>\n",
       "      <td>373554033.0</td>\n",
       "      <td>Toy Story</td>\n",
       "      <td>373554033.0</td>\n",
       "      <td>1995-10-30</td>\n",
       "      <td>30000000.0</td>\n",
       "      <td>12.451801</td>\n",
       "    </tr>\n",
       "    <tr>\n",
       "      <th>1</th>\n",
       "      <td>862</td>\n",
       "      <td>Director</td>\n",
       "      <td>John Lasseter</td>\n",
       "      <td>30000000.0</td>\n",
       "      <td>373554033.0</td>\n",
       "      <td>Toy Story</td>\n",
       "      <td>373554033.0</td>\n",
       "      <td>1995-10-30</td>\n",
       "      <td>30000000.0</td>\n",
       "      <td>12.451801</td>\n",
       "    </tr>\n",
       "    <tr>\n",
       "      <th>2</th>\n",
       "      <td>862</td>\n",
       "      <td>Director</td>\n",
       "      <td>John Lasseter</td>\n",
       "      <td>30000000.0</td>\n",
       "      <td>373554033.0</td>\n",
       "      <td>Toy Story</td>\n",
       "      <td>373554033.0</td>\n",
       "      <td>1995-10-30</td>\n",
       "      <td>30000000.0</td>\n",
       "      <td>12.451801</td>\n",
       "    </tr>\n",
       "    <tr>\n",
       "      <th>3</th>\n",
       "      <td>862</td>\n",
       "      <td>Director</td>\n",
       "      <td>John Lasseter</td>\n",
       "      <td>30000000.0</td>\n",
       "      <td>373554033.0</td>\n",
       "      <td>Toy Story</td>\n",
       "      <td>373554033.0</td>\n",
       "      <td>1995-10-30</td>\n",
       "      <td>30000000.0</td>\n",
       "      <td>12.451801</td>\n",
       "    </tr>\n",
       "    <tr>\n",
       "      <th>4</th>\n",
       "      <td>862</td>\n",
       "      <td>Director</td>\n",
       "      <td>John Lasseter</td>\n",
       "      <td>30000000.0</td>\n",
       "      <td>373554033.0</td>\n",
       "      <td>Toy Story</td>\n",
       "      <td>373554033.0</td>\n",
       "      <td>1995-10-30</td>\n",
       "      <td>30000000.0</td>\n",
       "      <td>12.451801</td>\n",
       "    </tr>\n",
       "  </tbody>\n",
       "</table>\n",
       "</div>"
      ],
      "text/plain": [
       "   pelicula_id    puesto    crew_nombre  presupuesto_x  recaudacion_x  \\\n",
       "0          862  Director  John Lasseter     30000000.0    373554033.0   \n",
       "1          862  Director  John Lasseter     30000000.0    373554033.0   \n",
       "2          862  Director  John Lasseter     30000000.0    373554033.0   \n",
       "3          862  Director  John Lasseter     30000000.0    373554033.0   \n",
       "4          862  Director  John Lasseter     30000000.0    373554033.0   \n",
       "\n",
       "  titulo_original  recaudacion_y fecha_realizacion  presupuesto_y   ganancia  \n",
       "0       Toy Story    373554033.0        1995-10-30     30000000.0  12.451801  \n",
       "1       Toy Story    373554033.0        1995-10-30     30000000.0  12.451801  \n",
       "2       Toy Story    373554033.0        1995-10-30     30000000.0  12.451801  \n",
       "3       Toy Story    373554033.0        1995-10-30     30000000.0  12.451801  \n",
       "4       Toy Story    373554033.0        1995-10-30     30000000.0  12.451801  "
      ]
     },
     "execution_count": 42,
     "metadata": {},
     "output_type": "execute_result"
    }
   ],
   "source": [
    "mvp_funcion_dir.drop('Unnamed: 0', axis=1, inplace=True)\n",
    "mvp_funcion_dir.head()"
   ]
  },
  {
   "cell_type": "code",
   "execution_count": 43,
   "metadata": {},
   "outputs": [
    {
     "name": "stdout",
     "output_type": "stream",
     "text": [
      "<class 'pandas.core.frame.DataFrame'>\n",
      "Int64Index: 5128 entries, 0 to 87031473\n",
      "Data columns (total 10 columns):\n",
      " #   Column             Non-Null Count  Dtype  \n",
      "---  ------             --------------  -----  \n",
      " 0   pelicula_id        5128 non-null   int64  \n",
      " 1   puesto             5128 non-null   object \n",
      " 2   crew_nombre        5128 non-null   object \n",
      " 3   presupuesto_x      5128 non-null   float64\n",
      " 4   recaudacion_x      5128 non-null   float64\n",
      " 5   titulo_original    5128 non-null   object \n",
      " 6   recaudacion_y      5128 non-null   float64\n",
      " 7   fecha_realizacion  5128 non-null   object \n",
      " 8   presupuesto_y      5128 non-null   float64\n",
      " 9   ganancia           5128 non-null   float64\n",
      "dtypes: float64(5), int64(1), object(4)\n",
      "memory usage: 440.7+ KB\n"
     ]
    }
   ],
   "source": [
    "mvp_funcion_dir.drop_duplicates(inplace=True)\n",
    "mvp_funcion_dir.info()"
   ]
  },
  {
   "cell_type": "code",
   "execution_count": 44,
   "metadata": {},
   "outputs": [
    {
     "data": {
      "text/html": [
       "<div>\n",
       "<style scoped>\n",
       "    .dataframe tbody tr th:only-of-type {\n",
       "        vertical-align: middle;\n",
       "    }\n",
       "\n",
       "    .dataframe tbody tr th {\n",
       "        vertical-align: top;\n",
       "    }\n",
       "\n",
       "    .dataframe thead th {\n",
       "        text-align: right;\n",
       "    }\n",
       "</style>\n",
       "<table border=\"1\" class=\"dataframe\">\n",
       "  <thead>\n",
       "    <tr style=\"text-align: right;\">\n",
       "      <th></th>\n",
       "      <th>pelicula_id</th>\n",
       "      <th>puesto</th>\n",
       "      <th>crew_nombre</th>\n",
       "      <th>presupuesto_x</th>\n",
       "      <th>recaudacion_x</th>\n",
       "      <th>titulo_original</th>\n",
       "      <th>recaudacion_y</th>\n",
       "      <th>fecha_realizacion</th>\n",
       "      <th>presupuesto_y</th>\n",
       "      <th>ganancia</th>\n",
       "    </tr>\n",
       "  </thead>\n",
       "  <tbody>\n",
       "    <tr>\n",
       "      <th>0</th>\n",
       "      <td>862</td>\n",
       "      <td>Director</td>\n",
       "      <td>John Lasseter</td>\n",
       "      <td>30000000.0</td>\n",
       "      <td>373554033.0</td>\n",
       "      <td>Toy Story</td>\n",
       "      <td>373554033.0</td>\n",
       "      <td>1995-10-30</td>\n",
       "      <td>30000000.0</td>\n",
       "      <td>12.451801</td>\n",
       "    </tr>\n",
       "    <tr>\n",
       "      <th>117</th>\n",
       "      <td>15602</td>\n",
       "      <td>Director</td>\n",
       "      <td>Howard Deutch</td>\n",
       "      <td>0.0</td>\n",
       "      <td>0.0</td>\n",
       "      <td>Grumpier Old Men</td>\n",
       "      <td>0.0</td>\n",
       "      <td>1995-12-22</td>\n",
       "      <td>0.0</td>\n",
       "      <td>0.000000</td>\n",
       "    </tr>\n",
       "    <tr>\n",
       "      <th>229</th>\n",
       "      <td>11862</td>\n",
       "      <td>Director</td>\n",
       "      <td>Charles Shyer</td>\n",
       "      <td>0.0</td>\n",
       "      <td>76578911.0</td>\n",
       "      <td>Father of the Bride Part II</td>\n",
       "      <td>76578911.0</td>\n",
       "      <td>1995-02-10</td>\n",
       "      <td>0.0</td>\n",
       "      <td>inf</td>\n",
       "    </tr>\n",
       "    <tr>\n",
       "      <th>277</th>\n",
       "      <td>710</td>\n",
       "      <td>Director</td>\n",
       "      <td>Martin Campbell</td>\n",
       "      <td>58000000.0</td>\n",
       "      <td>352194034.0</td>\n",
       "      <td>GoldenEye</td>\n",
       "      <td>352194034.0</td>\n",
       "      <td>1995-11-16</td>\n",
       "      <td>58000000.0</td>\n",
       "      <td>6.072311</td>\n",
       "    </tr>\n",
       "    <tr>\n",
       "      <th>8917</th>\n",
       "      <td>21032</td>\n",
       "      <td>Director</td>\n",
       "      <td>Simon Wells</td>\n",
       "      <td>0.0</td>\n",
       "      <td>11348324.0</td>\n",
       "      <td>Balto</td>\n",
       "      <td>11348324.0</td>\n",
       "      <td>1995-12-22</td>\n",
       "      <td>0.0</td>\n",
       "      <td>inf</td>\n",
       "    </tr>\n",
       "  </tbody>\n",
       "</table>\n",
       "</div>"
      ],
      "text/plain": [
       "      pelicula_id    puesto      crew_nombre  presupuesto_x  recaudacion_x  \\\n",
       "0             862  Director    John Lasseter     30000000.0    373554033.0   \n",
       "117         15602  Director    Howard Deutch            0.0            0.0   \n",
       "229         11862  Director    Charles Shyer            0.0     76578911.0   \n",
       "277           710  Director  Martin Campbell     58000000.0    352194034.0   \n",
       "8917        21032  Director      Simon Wells            0.0     11348324.0   \n",
       "\n",
       "                  titulo_original  recaudacion_y fecha_realizacion  \\\n",
       "0                       Toy Story    373554033.0        1995-10-30   \n",
       "117              Grumpier Old Men            0.0        1995-12-22   \n",
       "229   Father of the Bride Part II     76578911.0        1995-02-10   \n",
       "277                     GoldenEye    352194034.0        1995-11-16   \n",
       "8917                        Balto     11348324.0        1995-12-22   \n",
       "\n",
       "      presupuesto_y   ganancia  \n",
       "0        30000000.0  12.451801  \n",
       "117             0.0   0.000000  \n",
       "229             0.0        inf  \n",
       "277      58000000.0   6.072311  \n",
       "8917            0.0        inf  "
      ]
     },
     "execution_count": 44,
     "metadata": {},
     "output_type": "execute_result"
    }
   ],
   "source": [
    "mvp_funcion_dir.head()"
   ]
  },
  {
   "cell_type": "code",
   "execution_count": 45,
   "metadata": {},
   "outputs": [
    {
     "data": {
      "text/html": [
       "<div>\n",
       "<style scoped>\n",
       "    .dataframe tbody tr th:only-of-type {\n",
       "        vertical-align: middle;\n",
       "    }\n",
       "\n",
       "    .dataframe tbody tr th {\n",
       "        vertical-align: top;\n",
       "    }\n",
       "\n",
       "    .dataframe thead th {\n",
       "        text-align: right;\n",
       "    }\n",
       "</style>\n",
       "<table border=\"1\" class=\"dataframe\">\n",
       "  <thead>\n",
       "    <tr style=\"text-align: right;\">\n",
       "      <th></th>\n",
       "      <th>pelicula_id</th>\n",
       "      <th>director</th>\n",
       "      <th>titulo_original</th>\n",
       "      <th>recaudacion</th>\n",
       "      <th>fecha_realizacion</th>\n",
       "      <th>presupuesto</th>\n",
       "      <th>ganancia</th>\n",
       "    </tr>\n",
       "  </thead>\n",
       "  <tbody>\n",
       "    <tr>\n",
       "      <th>0</th>\n",
       "      <td>862</td>\n",
       "      <td>John Lasseter</td>\n",
       "      <td>Toy Story</td>\n",
       "      <td>373554033.0</td>\n",
       "      <td>1995-10-30</td>\n",
       "      <td>30000000.0</td>\n",
       "      <td>12.451801</td>\n",
       "    </tr>\n",
       "    <tr>\n",
       "      <th>117</th>\n",
       "      <td>15602</td>\n",
       "      <td>Howard Deutch</td>\n",
       "      <td>Grumpier Old Men</td>\n",
       "      <td>0.0</td>\n",
       "      <td>1995-12-22</td>\n",
       "      <td>0.0</td>\n",
       "      <td>0.000000</td>\n",
       "    </tr>\n",
       "    <tr>\n",
       "      <th>229</th>\n",
       "      <td>11862</td>\n",
       "      <td>Charles Shyer</td>\n",
       "      <td>Father of the Bride Part II</td>\n",
       "      <td>76578911.0</td>\n",
       "      <td>1995-02-10</td>\n",
       "      <td>0.0</td>\n",
       "      <td>inf</td>\n",
       "    </tr>\n",
       "    <tr>\n",
       "      <th>277</th>\n",
       "      <td>710</td>\n",
       "      <td>Martin Campbell</td>\n",
       "      <td>GoldenEye</td>\n",
       "      <td>352194034.0</td>\n",
       "      <td>1995-11-16</td>\n",
       "      <td>58000000.0</td>\n",
       "      <td>6.072311</td>\n",
       "    </tr>\n",
       "    <tr>\n",
       "      <th>8917</th>\n",
       "      <td>21032</td>\n",
       "      <td>Simon Wells</td>\n",
       "      <td>Balto</td>\n",
       "      <td>11348324.0</td>\n",
       "      <td>1995-12-22</td>\n",
       "      <td>0.0</td>\n",
       "      <td>inf</td>\n",
       "    </tr>\n",
       "  </tbody>\n",
       "</table>\n",
       "</div>"
      ],
      "text/plain": [
       "      pelicula_id         director              titulo_original  recaudacion  \\\n",
       "0             862    John Lasseter                    Toy Story  373554033.0   \n",
       "117         15602    Howard Deutch             Grumpier Old Men          0.0   \n",
       "229         11862    Charles Shyer  Father of the Bride Part II   76578911.0   \n",
       "277           710  Martin Campbell                    GoldenEye  352194034.0   \n",
       "8917        21032      Simon Wells                        Balto   11348324.0   \n",
       "\n",
       "     fecha_realizacion  presupuesto   ganancia  \n",
       "0           1995-10-30   30000000.0  12.451801  \n",
       "117         1995-12-22          0.0   0.000000  \n",
       "229         1995-02-10          0.0        inf  \n",
       "277         1995-11-16   58000000.0   6.072311  \n",
       "8917        1995-12-22          0.0        inf  "
      ]
     },
     "execution_count": 45,
     "metadata": {},
     "output_type": "execute_result"
    }
   ],
   "source": [
    "mvp_funcion_dir.drop(['puesto', 'presupuesto_x', 'recaudacion_x'], axis=1, inplace=True)\n",
    "mvp_funcion_dir.rename(columns = {'crew_nombre' : 'director', 'recaudacion_y' : 'recaudacion', 'presupuesto_y' : 'presupuesto'}, inplace=True)\n",
    "mvp_funcion_dir.head()"
   ]
  },
  {
   "cell_type": "code",
   "execution_count": 46,
   "metadata": {},
   "outputs": [],
   "source": [
    "mvp_funcion_dir.to_csv('dir.csv')"
   ]
  },
  {
   "cell_type": "code",
   "execution_count": 47,
   "metadata": {},
   "outputs": [],
   "source": [
    "def get_director(director):\n",
    "    director = director\n",
    "    dir_subset = mvp_funcion_dir.loc[mvp_funcion_dir['director'].isin([director])]\n",
    "    retorno = dir_subset['recaudacion'].sum()\n",
    "    cantidad_peliculas = dir_subset['pelicula_id'].nunique()\n",
    "    lista = dir_subset[['titulo_original', 'fecha_realizacion', 'recaudacion', 'presupuesto', 'ganancia']].values.tolist()\n",
    "\n",
    "\n",
    "\n",
    "    return print('El director', director, 'ha generado una retorno total de', retorno, ', y ha dirigido', cantidad_peliculas, 'peliculas, cuyos nombres, fecha de lanzamiento, retorno, costo y ganancia son:' \n",
    "    '\\n',  lista)"
   ]
  },
  {
   "cell_type": "code",
   "execution_count": 48,
   "metadata": {},
   "outputs": [
    {
     "name": "stdout",
     "output_type": "stream",
     "text": [
      "El director John Lasseter ha generado una retorno total de 1892756447.0 , y ha dirigido 4 peliculas, cuyos nombres, fecha de lanzamiento, retorno, costo y ganancia son:\n",
      " [['Toy Story', '1995-10-30', 373554033.0, 30000000.0, 12.4518011], ['Toy Story 2', '1999-10-30', 497366869.0, 90000000.0, 5.526298544444445], ['Cars', '2006-06-08', 461983149.0, 120000000.0, 3.849859575], ['Cars 2', '2011-06-11', 559852396.0, 200000000.0, 2.79926198]]\n"
     ]
    }
   ],
   "source": [
    "get_director('John Lasseter')"
   ]
  },
  {
   "cell_type": "code",
   "execution_count": 49,
   "metadata": {},
   "outputs": [
    {
     "name": "stdout",
     "output_type": "stream",
     "text": [
      "<class 'pandas.core.frame.DataFrame'>\n",
      "Int64Index: 5128 entries, 0 to 87031473\n",
      "Data columns (total 7 columns):\n",
      " #   Column             Non-Null Count  Dtype  \n",
      "---  ------             --------------  -----  \n",
      " 0   pelicula_id        5128 non-null   int64  \n",
      " 1   director           5128 non-null   object \n",
      " 2   titulo_original    5128 non-null   object \n",
      " 3   recaudacion        5128 non-null   float64\n",
      " 4   fecha_realizacion  5128 non-null   object \n",
      " 5   presupuesto        5128 non-null   float64\n",
      " 6   ganancia           5128 non-null   float64\n",
      "dtypes: float64(3), int64(1), object(3)\n",
      "memory usage: 320.5+ KB\n"
     ]
    }
   ],
   "source": [
    "mvp_funcion_dir.info()"
   ]
  },
  {
   "cell_type": "markdown",
   "metadata": {},
   "source": [
    "# Para poder hacer recomiende peliculas presentes en el dataset dirigidas por un director indicado, definimos una funcion:"
   ]
  },
  {
   "cell_type": "code",
   "execution_count": 52,
   "metadata": {},
   "outputs": [],
   "source": [
    "def recomendacion_por_director(director):\n",
    "    dir_subset = mvp_funcion_dir.loc[mvp_funcion_dir['director'].isin([director])]\n",
    "    recomendacion = dir_subset.loc[dir_subset['director'] == director]['titulo_original'].tolist()\n",
    "    return print('Director: ', director,\n",
    "                 '\\n', 'Pelis recomendadas:', recomendacion)\n",
    "                 \n"
   ]
  },
  {
   "cell_type": "code",
   "execution_count": 53,
   "metadata": {},
   "outputs": [
    {
     "name": "stdout",
     "output_type": "stream",
     "text": [
      "Director:  John Lasseter \n",
      " Pelis recomendadas: ['Toy Story', 'Toy Story 2', 'Cars', 'Cars 2']\n"
     ]
    }
   ],
   "source": [
    "recomendacion_por_director('John Lasseter')"
   ]
  }
 ],
 "metadata": {
  "kernelspec": {
   "display_name": "Python 3",
   "language": "python",
   "name": "python3"
  },
  "language_info": {
   "codemirror_mode": {
    "name": "ipython",
    "version": 3
   },
   "file_extension": ".py",
   "mimetype": "text/x-python",
   "name": "python",
   "nbconvert_exporter": "python",
   "pygments_lexer": "ipython3",
   "version": "3.11.2"
  },
  "orig_nbformat": 4
 },
 "nbformat": 4,
 "nbformat_minor": 2
}
